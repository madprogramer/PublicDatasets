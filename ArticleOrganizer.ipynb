{
 "cells": [
  {
   "cell_type": "markdown",
   "id": "4aae19a5-2b6b-4a91-87ec-3af8ae156520",
   "metadata": {},
   "source": [
    "# PublicDatasets"
   ]
  },
  {
   "cell_type": "markdown",
   "id": "e2a76a51-a8cd-41de-a232-55756397f486",
   "metadata": {},
   "source": [
    "## 1. Introduction"
   ]
  },
  {
   "cell_type": "markdown",
   "id": "b5bf9901-0fec-4c91-b5af-e419a8577b5f",
   "metadata": {},
   "source": [
    "### 1.1 Info"
   ]
  },
  {
   "cell_type": "markdown",
   "id": "7505ec4a-8a40-4cba-969b-2704d42b5994",
   "metadata": {},
   "source": [
    "**Current Pipeline:**\n",
    "\n",
    "* First pick targets\n",
    "* Find appropriate input\n",
    "* Run Downloader\n",
    "* Read PDFs\n",
    "* Query for Relations\n",
    "* Save Results"
   ]
  },
  {
   "cell_type": "markdown",
   "id": "800de180-7787-47c0-8d9f-dba9bca56e98",
   "metadata": {},
   "source": [
    "#### 1.1.1 Target Venues"
   ]
  },
  {
   "cell_type": "markdown",
   "id": "0d8bb5d1-d476-4a6f-98dd-0c6b163f7609",
   "metadata": {},
   "source": [
    "* MIDL 2021\n",
    "  * Proceedings to use: https://proceedings.mlr.press/v143/"
   ]
  },
  {
   "cell_type": "code",
   "execution_count": 1,
   "id": "2b0ed703-7134-4441-8a66-0a5d7aec1e21",
   "metadata": {},
   "outputs": [],
   "source": [
    "venues = [\n",
    "    #'MIDL 2021',\n",
    "    'CHIL 2021',\n",
    "    #'ML4H 2020',\n",
    "    #'ML4H 2021' \n",
    "    ]"
   ]
  },
  {
   "cell_type": "code",
   "execution_count": 2,
   "id": "edf0ed7a-78c4-4a68-88e3-ac9a436a4cd1",
   "metadata": {},
   "outputs": [],
   "source": [
    "special_separator = '___'"
   ]
  },
  {
   "cell_type": "markdown",
   "id": "c9dc3ad1-1f9c-460f-a34d-7b0a1d7e4041",
   "metadata": {},
   "source": [
    "#### 1.1.2 Target Datasets"
   ]
  },
  {
   "cell_type": "markdown",
   "id": "16d7c5a5-4944-431c-8d39-669466a6b8e8",
   "metadata": {},
   "source": [
    "* [Data Science Bowl 2017](https://www.kaggle.com/c/data-science-bowl-2017)\n",
    "  * See here for literature: https://scholar.google.com/scholar?hl=en&as_sdt=0%2C5&q=%22data+science+bowl%22+%2B+lung&btnG="
   ]
  },
  {
   "cell_type": "markdown",
   "id": "281f0127-6c18-458e-9b98-ac30ea8f60bb",
   "metadata": {},
   "source": [
    "### 1.2 Imports"
   ]
  },
  {
   "cell_type": "code",
   "execution_count": 3,
   "id": "769c6abb-7729-4e01-8e7d-82c18c70f478",
   "metadata": {},
   "outputs": [],
   "source": [
    "import os,sys\n",
    "import scrapy\n",
    "import pdfminer\n",
    "import pandas as pd\n",
    "import numpy as np"
   ]
  },
  {
   "cell_type": "code",
   "execution_count": 4,
   "id": "ae2c5409-e855-4135-aaa2-b14b24f3dad4",
   "metadata": {},
   "outputs": [],
   "source": [
    "import warnings\n",
    "warnings.filterwarnings('ignore')\n",
    "\n",
    "import logging\n",
    "logging.getLogger(\"scrapy\").setLevel(logging.CRITICAL)\n",
    "logging.getLogger(\"pdfminer\").setLevel(logging.CRITICAL)"
   ]
  },
  {
   "cell_type": "markdown",
   "id": "0caaa310-bbb5-425d-b6c1-290a80f88890",
   "metadata": {},
   "source": [
    "### 1.3 Misc. Variables"
   ]
  },
  {
   "cell_type": "code",
   "execution_count": 5,
   "id": "093e8ab0-c6e5-42ae-bbc8-67e7a9d32a70",
   "metadata": {},
   "outputs": [],
   "source": [
    "pdfs=[]\n",
    "texts=[]\n",
    "\n",
    "#dois=[]\n",
    "titles=[]\n",
    "paper_venues=[]"
   ]
  },
  {
   "cell_type": "markdown",
   "id": "f37a6300-4141-4307-a08d-105a77dc5f25",
   "metadata": {},
   "source": [
    "## 2. Input"
   ]
  },
  {
   "cell_type": "markdown",
   "id": "2924bd23-cca3-4c28-8e37-516801d7ecaf",
   "metadata": {},
   "source": [
    "### 2.1 PDF Sources"
   ]
  },
  {
   "cell_type": "code",
   "execution_count": 6,
   "id": "88d090d0-59a4-47ad-9457-da4b0fed8804",
   "metadata": {},
   "outputs": [],
   "source": [
    "pdf_urls = [\n",
    "            # 'https://proceedings.mlr.press/v143/', #MIDL 2021\n",
    "            'https://proceedings.mlr.press/v174/', #CHIL 2021\n",
    "            #'https://proceedings.mlr.press/v136/', #ML4H 2020\n",
    "            # 'https://proceedings.mlr.press/v158/', #ML4H 2021\n",
    "        ]\n",
    "\n",
    "venue_labels = {\n",
    "            # 'https://proceedings.mlr.press/v143/':'MIDL 2021',\n",
    "            'https://proceedings.mlr.press/v174/':'CHIL 2021',\n",
    "            #'https://proceedings.mlr.press/v136/':'ML4H 2020',\n",
    "            # 'https://proceedings.mlr.press/v158/':'ML4H 2021'\n",
    "}\n",
    "\n",
    "\n",
    "# To Do: move these under `ArticleScraper/ArticleScraper/spiders`"
   ]
  },
  {
   "cell_type": "markdown",
   "id": "0c3b64e2-d61c-4fdd-9d91-90c9ed152b1c",
   "metadata": {},
   "source": [
    "## 3. Crawler/Downloader"
   ]
  },
  {
   "cell_type": "markdown",
   "id": "b79f70c4-fabe-44e7-abae-91713228d51f",
   "metadata": {},
   "source": [
    "Make directory for pdfs if it does not exist"
   ]
  },
  {
   "cell_type": "code",
   "execution_count": 7,
   "id": "c9e71883-b5f7-4400-856a-e5be3776b072",
   "metadata": {},
   "outputs": [],
   "source": [
    "!mkdir data/pdfs"
   ]
  },
  {
   "cell_type": "code",
   "execution_count": null,
   "id": "8bbf760b-d1e8-491a-9f0f-1a885bc00ec8",
   "metadata": {},
   "outputs": [],
   "source": []
  },
  {
   "cell_type": "code",
   "execution_count": 8,
   "id": "358b457e-2720-45a9-a282-e00415b177a7",
   "metadata": {},
   "outputs": [
    {
     "name": "stderr",
     "output_type": "stream",
     "text": [
      "2022-12-11 19:50:48 [scrapy.utils.log] INFO: Scrapy 2.6.3 started (bot: scrapybot)\n",
      "2022-12-11 19:50:48 [scrapy.utils.log] INFO: Versions: lxml 4.9.1.0, libxml2 2.9.13, cssselect 1.1.0, parsel 1.6.0, w3lib 2.0.1, Twisted 22.8.0, Python 3.10.5 (v3.10.5:f377153967, Jun  6 2022, 12:36:10) [Clang 13.0.0 (clang-1300.0.29.30)], pyOpenSSL 22.1.0 (OpenSSL 3.0.5 5 Jul 2022), cryptography 38.0.1, Platform macOS-13.0.1-x86_64-i386-64bit\n",
      "2022-12-11 19:50:48 [scrapy.crawler] INFO: Overridden settings:\n",
      "{}\n",
      "2022-12-11 19:50:48 [scrapy.utils.log] DEBUG: Using reactor: twisted.internet.selectreactor.SelectReactor\n",
      "2022-12-11 19:50:48 [scrapy.extensions.telnet] INFO: Telnet Password: 3fe1828c4c413139\n",
      "2022-12-11 19:50:48 [scrapy.middleware] INFO: Enabled extensions:\n",
      "['scrapy.extensions.corestats.CoreStats',\n",
      " 'scrapy.extensions.telnet.TelnetConsole',\n",
      " 'scrapy.extensions.memusage.MemoryUsage',\n",
      " 'scrapy.extensions.logstats.LogStats']\n",
      "2022-12-11 19:50:48 [scrapy.middleware] INFO: Enabled downloader middlewares:\n",
      "['scrapy.downloadermiddlewares.httpauth.HttpAuthMiddleware',\n",
      " 'scrapy.downloadermiddlewares.downloadtimeout.DownloadTimeoutMiddleware',\n",
      " 'scrapy.downloadermiddlewares.defaultheaders.DefaultHeadersMiddleware',\n",
      " 'scrapy.downloadermiddlewares.useragent.UserAgentMiddleware',\n",
      " 'scrapy.downloadermiddlewares.retry.RetryMiddleware',\n",
      " 'scrapy.downloadermiddlewares.redirect.MetaRefreshMiddleware',\n",
      " 'scrapy.downloadermiddlewares.httpcompression.HttpCompressionMiddleware',\n",
      " 'scrapy.downloadermiddlewares.redirect.RedirectMiddleware',\n",
      " 'scrapy.downloadermiddlewares.cookies.CookiesMiddleware',\n",
      " 'scrapy.downloadermiddlewares.httpproxy.HttpProxyMiddleware',\n",
      " 'scrapy.downloadermiddlewares.stats.DownloaderStats']\n",
      "2022-12-11 19:50:48 [scrapy.middleware] INFO: Enabled spider middlewares:\n",
      "['scrapy.spidermiddlewares.httperror.HttpErrorMiddleware',\n",
      " 'scrapy.spidermiddlewares.offsite.OffsiteMiddleware',\n",
      " 'scrapy.spidermiddlewares.referer.RefererMiddleware',\n",
      " 'scrapy.spidermiddlewares.urllength.UrlLengthMiddleware',\n",
      " 'scrapy.spidermiddlewares.depth.DepthMiddleware']\n",
      "2022-12-11 19:50:48 [scrapy.middleware] INFO: Enabled item pipelines:\n",
      "[]\n",
      "2022-12-11 19:50:48 [scrapy.core.engine] INFO: Spider opened\n",
      "2022-12-11 19:50:48 [scrapy.extensions.logstats] INFO: Crawled 0 pages (at 0 pages/min), scraped 0 items (at 0 items/min)\n",
      "2022-12-11 19:50:48 [scrapy.extensions.telnet] INFO: Telnet console listening on 127.0.0.1:6023\n",
      "2022-12-11 19:50:49 [scrapy.core.engine] DEBUG: Crawled (200) <GET https://proceedings.mlr.press/v174/> (referer: None)\n",
      "2022-12-11 19:50:49 [scrapy.core.engine] DEBUG: Crawled (200) <GET https://proceedings.mlr.press/v174/flores22a/flores22a.pdf> (referer: https://proceedings.mlr.press/v174/)\n"
     ]
    },
    {
     "name": "stdout",
     "output_type": "stream",
     "text": [
      "Request url must be str, got NoneType\n"
     ]
    },
    {
     "name": "stderr",
     "output_type": "stream",
     "text": [
      "2022-12-11 19:50:49 [MLR_Press] INFO: Saving PDF Conference on Health, Inference, and Learning (CHIL) 2022.PDF\n",
      "2022-12-11 19:50:49 [scrapy.core.engine] DEBUG: Crawled (200) <GET https://proceedings.mlr.press/v174/raghu22a/raghu22a.pdf> (referer: https://proceedings.mlr.press/v174/)\n",
      "2022-12-11 19:50:49 [MLR_Press] INFO: Saving PDF Data Augmentation for Electrocardiograms.PDF\n",
      "2022-12-11 19:50:49 [scrapy.core.engine] DEBUG: Crawled (200) <GET https://proceedings.mlr.press/v174/rahimian22a/rahimian22a.pdf> (referer: https://proceedings.mlr.press/v174/)\n",
      "2022-12-11 19:50:49 [scrapy.core.engine] DEBUG: Crawled (200) <GET https://proceedings.mlr.press/v174/roy22a/roy22a.pdf> (referer: https://proceedings.mlr.press/v174/)\n",
      "2022-12-11 19:50:49 [MLR_Press] INFO: Saving PDF Practical Challenges in Differentially-Private Federated Survival Analysis of Medical Data.PDF\n",
      "2022-12-11 19:50:49 [MLR_Press] INFO: Saving PDF Disability prediction in multiple sclerosis using performance outcome measures and demographic data.PDF\n",
      "2022-12-11 19:50:49 [scrapy.core.engine] DEBUG: Crawled (200) <GET https://proceedings.mlr.press/v174/pal22a/pal22a.pdf> (referer: https://proceedings.mlr.press/v174/)\n",
      "2022-12-11 19:50:49 [MLR_Press] INFO: Saving PDF MedMCQA: A Large-scale Multi-Subject Multi-Choice Dataset for Medical domain Question Answering.PDF\n",
      "2022-12-11 19:50:50 [scrapy.core.engine] DEBUG: Crawled (200) <GET https://proceedings.mlr.press/v174/zhang22a/zhang22a.pdf> (referer: https://proceedings.mlr.press/v174/)\n",
      "2022-12-11 19:50:50 [scrapy.core.engine] DEBUG: Crawled (200) <GET https://proceedings.mlr.press/v174/oh22a/oh22a.pdf> (referer: https://proceedings.mlr.press/v174/)\n",
      "2022-12-11 19:50:50 [MLR_Press] INFO: Saving PDF Improving the Fairness of Chest X-ray Classifiers.PDF\n",
      "2022-12-11 19:50:50 [MLR_Press] INFO: Saving PDF Lead-agnostic Self-supervised Learning for Local and Global Representations of Electrocardiogram.PDF\n",
      "2022-12-11 19:50:51 [scrapy.core.engine] DEBUG: Crawled (200) <GET https://proceedings.mlr.press/v174/weatherhead22a/weatherhead22a.pdf> (referer: https://proceedings.mlr.press/v174/)\n",
      "2022-12-11 19:50:51 [MLR_Press] INFO: Saving PDF Learning Unsupervised Representations for ICU Timeseries.PDF\n",
      "2022-12-11 19:50:51 [scrapy.core.engine] DEBUG: Crawled (200) <GET https://proceedings.mlr.press/v174/kim22b/kim22b.pdf> (referer: https://proceedings.mlr.press/v174/)\n",
      "2022-12-11 19:50:51 [MLR_Press] INFO: Saving PDF Context-Sensitive Spelling Correction of Clinical Text via Conditional Independence.PDF\n",
      "2022-12-11 19:50:51 [scrapy.core.engine] DEBUG: Crawled (200) <GET https://proceedings.mlr.press/v174/hur22a/hur22a.pdf> (referer: https://proceedings.mlr.press/v174/)\n",
      "2022-12-11 19:50:51 [MLR_Press] INFO: Saving PDF Unifying Heterogeneous Electronic Health Records Systems via Text-Based Code Embedding.PDF\n",
      "2022-12-11 19:50:51 [scrapy.core.engine] DEBUG: Crawled (200) <GET https://proceedings.mlr.press/v174/kim22a/kim22a.pdf> (referer: https://proceedings.mlr.press/v174/)\n",
      "2022-12-11 19:50:51 [scrapy.core.engine] DEBUG: Crawled (200) <GET https://proceedings.mlr.press/v174/tonekaboni22a/tonekaboni22a.pdf> (referer: https://proceedings.mlr.press/v174/)\n",
      "2022-12-11 19:50:51 [scrapy.core.engine] DEBUG: Crawled (200) <GET https://proceedings.mlr.press/v174/kinyanjui22a/kinyanjui22a.pdf> (referer: https://proceedings.mlr.press/v174/)\n",
      "2022-12-11 19:50:51 [MLR_Press] INFO: Saving PDF Uncertainty-Aware Text-to-Program for Question Answering on Structured Electronic Health Records.PDF\n",
      "2022-12-11 19:50:51 [scrapy.core.engine] DEBUG: Crawled (200) <GET https://proceedings.mlr.press/v174/fatemi22a/fatemi22a.pdf> (referer: https://proceedings.mlr.press/v174/)\n",
      "2022-12-11 19:50:52 [MLR_Press] INFO: Saving PDF How to validate Machine Learning Models Prior to Deployment: Silent trial protocol for evaluation of real-time models at ICU.PDF\n",
      "2022-12-11 19:50:52 [MLR_Press] INFO: Saving PDF ADCB: An Alzheimer’s disease simulator for benchmarking observational estimators of causal effects.PDF\n",
      "2022-12-11 19:50:52 [MLR_Press] INFO: Saving PDF Semi-Markov Offline Reinforcement Learning for Healthcare.PDF\n",
      "2022-12-11 19:50:52 [scrapy.core.engine] DEBUG: Crawled (200) <GET https://proceedings.mlr.press/v174/jeanselme22a/jeanselme22a.pdf> (referer: https://proceedings.mlr.press/v174/)\n",
      "2022-12-11 19:50:52 [MLR_Press] INFO: Saving PDF Neural Survival Clustering: Non-parametric mixture of neural networks for survival clustering.PDF\n",
      "2022-12-11 19:50:52 [scrapy.core.engine] DEBUG: Crawled (200) <GET https://proceedings.mlr.press/v174/park22a/park22a.pdf> (referer: https://proceedings.mlr.press/v174/)\n",
      "2022-12-11 19:50:52 [MLR_Press] INFO: Saving PDF Graph-Text Multi-Modal Pre-training for Medical Representation Learning.PDF\n",
      "2022-12-11 19:50:52 [scrapy.core.engine] DEBUG: Crawled (200) <GET https://proceedings.mlr.press/v174/el-hay22a/el-hay22a.pdf> (referer: https://proceedings.mlr.press/v174/)\n",
      "2022-12-11 19:50:52 [scrapy.core.engine] DEBUG: Crawled (200) <GET https://proceedings.mlr.press/v174/huang22a/huang22a.pdf> (referer: https://proceedings.mlr.press/v174/)\n",
      "2022-12-11 19:50:52 [MLR_Press] INFO: Saving PDF Estimating Model Performance on External Samples from Their Limited Statistical Characteristics.PDF\n",
      "2022-12-11 19:50:52 [scrapy.core.engine] DEBUG: Crawled (200) <GET https://proceedings.mlr.press/v174/pfisterer22a/pfisterer22a.pdf> (referer: https://proceedings.mlr.press/v174/)\n",
      "2022-12-11 19:50:52 [MLR_Press] INFO: Saving PDF Enriching Unsupervised User Embedding via Medical Concepts.PDF\n",
      "2022-12-11 19:50:52 [MLR_Press] INFO: Saving PDF Evaluating Domain Generalization for Survival Analysis in Clinical Studies.PDF\n",
      "2022-12-11 19:50:52 [scrapy.core.engine] DEBUG: Crawled (200) <GET https://proceedings.mlr.press/v174/chu22a/chu22a.pdf> (referer: https://proceedings.mlr.press/v174/)\n",
      "2022-12-11 19:50:53 [MLR_Press] INFO: Saving PDF Multi-Task Adversarial Learning for Treatment Effect Estimation in Basket Trials.PDF\n",
      "2022-12-11 19:50:54 [scrapy.core.engine] DEBUG: Crawled (200) <GET https://proceedings.mlr.press/v174/killian22a/killian22a.pdf> (referer: https://proceedings.mlr.press/v174/)\n",
      "2022-12-11 19:50:54 [MLR_Press] INFO: Saving PDF Counterfactually Guided Policy Transfer in Clinical Settings.PDF\n",
      "2022-12-11 19:50:54 [scrapy.core.engine] DEBUG: Crawled (200) <GET https://proceedings.mlr.press/v174/lee22a/lee22a.pdf> (referer: https://proceedings.mlr.press/v174/)\n",
      "2022-12-11 19:50:55 [MLR_Press] INFO: Saving PDF Real-Time Seizure Detection using EEG: A Comprehensive Comparison of Recent Approaches under a Realistic Setting.PDF\n",
      "2022-12-11 19:50:55 [scrapy.core.engine] DEBUG: Crawled (200) <GET https://proceedings.mlr.press/v174/keramati22a/keramati22a.pdf> (referer: https://proceedings.mlr.press/v174/)\n",
      "2022-12-11 19:50:55 [MLR_Press] INFO: Saving PDF Identification of Subgroups With Similar Benefits in Off-Policy Policy Evaluation.PDF\n",
      "2022-12-11 19:50:55 [scrapy.core.engine] DEBUG: Crawled (200) <GET https://proceedings.mlr.press/v174/zhu22a/zhu22a.pdf> (referer: https://proceedings.mlr.press/v174/)\n",
      "2022-12-11 19:50:55 [MLR_Press] INFO: Saving PDF PhysioMTL: Personalizing Physiological Patterns using Optimal Transport Multi-Task Regression.PDF\n",
      "2022-12-11 19:50:55 [scrapy.core.engine] INFO: Closing spider (finished)\n",
      "2022-12-11 19:50:55 [scrapy.statscollectors] INFO: Dumping Scrapy stats:\n",
      "{'downloader/request_bytes': 7386,\n",
      " 'downloader/request_count': 25,\n",
      " 'downloader/request_method_count/GET': 25,\n",
      " 'downloader/response_bytes': 70441837,\n",
      " 'downloader/response_count': 25,\n",
      " 'downloader/response_status_count/200': 25,\n",
      " 'elapsed_time_seconds': 7.180232,\n",
      " 'finish_reason': 'finished',\n",
      " 'finish_time': datetime.datetime(2022, 12, 11, 18, 50, 55, 985573),\n",
      " 'httpcompression/response_bytes': 34946,\n",
      " 'httpcompression/response_count': 1,\n",
      " 'log_count/DEBUG': 26,\n",
      " 'log_count/INFO': 34,\n",
      " 'memusage/max': 125136896,\n",
      " 'memusage/startup': 125136896,\n",
      " 'request_depth_max': 1,\n",
      " 'response_received_count': 25,\n",
      " 'scheduler/dequeued': 25,\n",
      " 'scheduler/dequeued/memory': 25,\n",
      " 'scheduler/enqueued': 25,\n",
      " 'scheduler/enqueued/memory': 25,\n",
      " 'start_time': datetime.datetime(2022, 12, 11, 18, 50, 48, 805341)}\n",
      "2022-12-11 19:50:55 [scrapy.core.engine] INFO: Spider closed (finished)\n"
     ]
    }
   ],
   "source": [
    "# scrapy code goes here\n",
    "from scrapy.crawler import CrawlerProcess\n",
    "from scrapy.http import Request\n",
    "\n",
    "class MLRPRessCrawler(scrapy.Spider):\n",
    "    \"\"\"\n",
    "    Spider for crawling PDFs from `proceedings.mlr.press`\n",
    "    \"\"\"\n",
    "    name = \"MLR_Press\"\n",
    "\n",
    "    def start_requests(self):\n",
    "        urls = pdf_urls\n",
    "        for url in urls:\n",
    "            yield scrapy.Request(\n",
    "                url=url, \n",
    "                meta={\n",
    "                    \"venue\" : venue_labels[url]\n",
    "                },\n",
    "                callback=self.parse\n",
    "            )\n",
    "\n",
    "    def parse(self, response):\n",
    "        for article in response.xpath('/html/body/main/div/div[*]'):\n",
    "            try:\n",
    "                yield Request(\n",
    "                    url=article.xpath('p[3]/a[2]/@href').get(),\n",
    "                    meta={\n",
    "                        \"title\": article.xpath('p[1]/text()').get(),\n",
    "                        \"venue\" : response.request.meta['venue']\n",
    "                        },\n",
    "                    callback=self.save_pdf\n",
    "                )\n",
    "            except Exception as e:\n",
    "                print(e)\n",
    "\n",
    "    def save_pdf(self, response):\n",
    "        try:\n",
    "            title = response.meta['title']+\".PDF\"\n",
    "            venue = response.meta['venue']\n",
    "            self.logger.info('Saving PDF %s', title)\n",
    "            pdf_file = os.path.join('data','pdfs',venue+special_separator+title)\n",
    "            with open(pdf_file, 'wb') as f:\n",
    "                f.write(response.body)\n",
    "            pdfs.append(pdf_file)\n",
    "            titles.append(response.meta['title'])\n",
    "            paper_venues.append(response.meta['venue'])\n",
    "        except Exception as e:\n",
    "            print(e)\n",
    "            \n",
    "crawler = CrawlerProcess({})\n",
    "crawler.crawl(MLRPRessCrawler)\n",
    "crawler.start()\n",
    "# DOIs are unavailable for now\n",
    "# pdf-files"
   ]
  },
  {
   "cell_type": "markdown",
   "id": "c6802edc-afd2-4b18-b543-d8d9f8def3fd",
   "metadata": {},
   "source": [
    "## 4. PDF-Reader"
   ]
  },
  {
   "cell_type": "markdown",
   "id": "62ca3186-18ff-474f-af69-e5ba5270e631",
   "metadata": {},
   "source": [
    "Make directory for texts if it does not exist"
   ]
  },
  {
   "cell_type": "code",
   "execution_count": 9,
   "id": "e5ab8186-7112-4154-ba02-4280951788a0",
   "metadata": {},
   "outputs": [],
   "source": [
    "!mkdir data/texts"
   ]
  },
  {
   "cell_type": "code",
   "execution_count": 10,
   "id": "ad4be30a-ce85-4aba-b0b6-81bc20cb1430",
   "metadata": {},
   "outputs": [],
   "source": [
    "# !ls data/pdfs"
   ]
  },
  {
   "cell_type": "code",
   "execution_count": 11,
   "id": "b3b42410-7231-46d3-9eff-e38cb66f016a",
   "metadata": {},
   "outputs": [],
   "source": [
    "from pdfminer.high_level import extract_text\n",
    "\n",
    "# i=0\n",
    "for directory, subdirlist, filelist in os.walk('data/pdfs/'):\n",
    "    # print(directory)\n",
    "    for pdf in filelist:\n",
    "        title = pdf[:-4]\n",
    "        text_file = os.path.join('data','texts',title+'.txt')\n",
    "        try:\n",
    "            with open(text_file, 'w') as f:\n",
    "                text_contents = extract_text(os.path.join(directory,pdf))\n",
    "                f.write(text_contents)\n",
    "                texts.append(text_file)\n",
    "        except Exception as e:\n",
    "            print(e)\n",
    "            # print((i,text_file))\n",
    "            # i+=1\n",
    "# SEE ALSO these functions more layout-gnostic processing\n",
    "# from pdfminer.high_level import extract_text_to_fp\n",
    "# from pdfminer.layout import LAParams"
   ]
  },
  {
   "cell_type": "code",
   "execution_count": null,
   "id": "d61ee078-bb78-4f33-a09c-da71f34d95a8",
   "metadata": {},
   "outputs": [],
   "source": []
  },
  {
   "cell_type": "markdown",
   "id": "64950872-9e97-423e-8bc5-3ffc345654f6",
   "metadata": {},
   "source": [
    "## 5. Saving Results"
   ]
  },
  {
   "cell_type": "markdown",
   "id": "9b5376fa-2e02-424e-b46d-20b1eeb32e02",
   "metadata": {},
   "source": [
    "Combine venues (constant), titles , mention_matches and keyword_matches into final output."
   ]
  },
  {
   "cell_type": "code",
   "execution_count": 12,
   "id": "df0182f5-4fb3-4c67-9f10-0a56ac8bfb17",
   "metadata": {},
   "outputs": [],
   "source": [
    "merged_dict = {}"
   ]
  },
  {
   "cell_type": "code",
   "execution_count": 13,
   "id": "e722e0c6-11a6-4e46-b263-430e8ff59b09",
   "metadata": {},
   "outputs": [],
   "source": [
    "\n",
    "#UNUSED\n",
    "#merged_dict['doi']=n/a\n",
    "merged_dict['Venue']=paper_venues\n",
    "merged_dict['Title']=titles\n",
    "\n",
    "# TODO EXTRACT VENUE FROM TITLES using special_separator\n",
    "\n",
    "# [titles.split(special_separator) for title in titles]\n"
   ]
  },
  {
   "cell_type": "code",
   "execution_count": 14,
   "id": "e1336421-2573-4239-9d8d-73308acb8bf4",
   "metadata": {},
   "outputs": [],
   "source": [
    "match_dataset = pd.DataFrame(\n",
    "    merged_dict\n",
    ")"
   ]
  },
  {
   "cell_type": "code",
   "execution_count": 15,
   "id": "198e8ac3-0f58-4df9-93ec-6a5adfeb8216",
   "metadata": {},
   "outputs": [],
   "source": [
    "# match_dataset= match_dataset.assign(Venue=venues[0])\n",
    "# match_dataset= match_dataset.assign(DOI='n/a')"
   ]
  },
  {
   "cell_type": "code",
   "execution_count": 16,
   "id": "8152e067-5384-46eb-a56a-dbd64aa0f8f1",
   "metadata": {},
   "outputs": [],
   "source": [
    "L = len(match_dataset)\n",
    "match_dataset =  match_dataset.assign(included=np.ones(L).astype(bool))\n",
    "#Remove conference summary\n",
    "# match_dataset = match_dataset.drop(0,axis=0)\n",
    "match_dataset.loc[0, ['included']] = False"
   ]
  },
  {
   "cell_type": "code",
   "execution_count": 17,
   "id": "58a7fdbe-bc50-4361-b672-0fd74054cbec",
   "metadata": {},
   "outputs": [
    {
     "data": {
      "text/html": [
       "<div>\n",
       "<style scoped>\n",
       "    .dataframe tbody tr th:only-of-type {\n",
       "        vertical-align: middle;\n",
       "    }\n",
       "\n",
       "    .dataframe tbody tr th {\n",
       "        vertical-align: top;\n",
       "    }\n",
       "\n",
       "    .dataframe thead th {\n",
       "        text-align: right;\n",
       "    }\n",
       "</style>\n",
       "<table border=\"1\" class=\"dataframe\">\n",
       "  <thead>\n",
       "    <tr style=\"text-align: right;\">\n",
       "      <th></th>\n",
       "      <th>Venue</th>\n",
       "      <th>Title</th>\n",
       "      <th>included</th>\n",
       "    </tr>\n",
       "  </thead>\n",
       "  <tbody>\n",
       "    <tr>\n",
       "      <th>0</th>\n",
       "      <td>CHIL 2021</td>\n",
       "      <td>Conference on Health, Inference, and Learning ...</td>\n",
       "      <td>False</td>\n",
       "    </tr>\n",
       "    <tr>\n",
       "      <th>1</th>\n",
       "      <td>CHIL 2021</td>\n",
       "      <td>Data Augmentation for Electrocardiograms</td>\n",
       "      <td>True</td>\n",
       "    </tr>\n",
       "    <tr>\n",
       "      <th>2</th>\n",
       "      <td>CHIL 2021</td>\n",
       "      <td>Practical Challenges in Differentially-Private...</td>\n",
       "      <td>True</td>\n",
       "    </tr>\n",
       "    <tr>\n",
       "      <th>3</th>\n",
       "      <td>CHIL 2021</td>\n",
       "      <td>Disability prediction in multiple sclerosis us...</td>\n",
       "      <td>True</td>\n",
       "    </tr>\n",
       "    <tr>\n",
       "      <th>4</th>\n",
       "      <td>CHIL 2021</td>\n",
       "      <td>MedMCQA: A Large-scale Multi-Subject Multi-Cho...</td>\n",
       "      <td>True</td>\n",
       "    </tr>\n",
       "    <tr>\n",
       "      <th>5</th>\n",
       "      <td>CHIL 2021</td>\n",
       "      <td>Improving the Fairness of Chest X-ray Classifiers</td>\n",
       "      <td>True</td>\n",
       "    </tr>\n",
       "    <tr>\n",
       "      <th>6</th>\n",
       "      <td>CHIL 2021</td>\n",
       "      <td>Lead-agnostic Self-supervised Learning for Loc...</td>\n",
       "      <td>True</td>\n",
       "    </tr>\n",
       "    <tr>\n",
       "      <th>7</th>\n",
       "      <td>CHIL 2021</td>\n",
       "      <td>Learning Unsupervised Representations for ICU ...</td>\n",
       "      <td>True</td>\n",
       "    </tr>\n",
       "    <tr>\n",
       "      <th>8</th>\n",
       "      <td>CHIL 2021</td>\n",
       "      <td>Context-Sensitive Spelling Correction of Clini...</td>\n",
       "      <td>True</td>\n",
       "    </tr>\n",
       "    <tr>\n",
       "      <th>9</th>\n",
       "      <td>CHIL 2021</td>\n",
       "      <td>Unifying Heterogeneous Electronic Health Recor...</td>\n",
       "      <td>True</td>\n",
       "    </tr>\n",
       "    <tr>\n",
       "      <th>10</th>\n",
       "      <td>CHIL 2021</td>\n",
       "      <td>Uncertainty-Aware Text-to-Program for Question...</td>\n",
       "      <td>True</td>\n",
       "    </tr>\n",
       "    <tr>\n",
       "      <th>11</th>\n",
       "      <td>CHIL 2021</td>\n",
       "      <td>How to validate Machine Learning Models Prior ...</td>\n",
       "      <td>True</td>\n",
       "    </tr>\n",
       "    <tr>\n",
       "      <th>12</th>\n",
       "      <td>CHIL 2021</td>\n",
       "      <td>ADCB: An Alzheimer’s disease simulator for ben...</td>\n",
       "      <td>True</td>\n",
       "    </tr>\n",
       "    <tr>\n",
       "      <th>13</th>\n",
       "      <td>CHIL 2021</td>\n",
       "      <td>Semi-Markov Offline Reinforcement Learning for...</td>\n",
       "      <td>True</td>\n",
       "    </tr>\n",
       "    <tr>\n",
       "      <th>14</th>\n",
       "      <td>CHIL 2021</td>\n",
       "      <td>Neural Survival Clustering: Non-parametric mix...</td>\n",
       "      <td>True</td>\n",
       "    </tr>\n",
       "    <tr>\n",
       "      <th>15</th>\n",
       "      <td>CHIL 2021</td>\n",
       "      <td>Graph-Text Multi-Modal Pre-training for Medica...</td>\n",
       "      <td>True</td>\n",
       "    </tr>\n",
       "    <tr>\n",
       "      <th>16</th>\n",
       "      <td>CHIL 2021</td>\n",
       "      <td>Estimating Model Performance on External Sampl...</td>\n",
       "      <td>True</td>\n",
       "    </tr>\n",
       "    <tr>\n",
       "      <th>17</th>\n",
       "      <td>CHIL 2021</td>\n",
       "      <td>Enriching Unsupervised User Embedding via Medi...</td>\n",
       "      <td>True</td>\n",
       "    </tr>\n",
       "    <tr>\n",
       "      <th>18</th>\n",
       "      <td>CHIL 2021</td>\n",
       "      <td>Evaluating Domain Generalization for Survival ...</td>\n",
       "      <td>True</td>\n",
       "    </tr>\n",
       "    <tr>\n",
       "      <th>19</th>\n",
       "      <td>CHIL 2021</td>\n",
       "      <td>Multi-Task Adversarial Learning for Treatment ...</td>\n",
       "      <td>True</td>\n",
       "    </tr>\n",
       "    <tr>\n",
       "      <th>20</th>\n",
       "      <td>CHIL 2021</td>\n",
       "      <td>Counterfactually Guided Policy Transfer in Cli...</td>\n",
       "      <td>True</td>\n",
       "    </tr>\n",
       "    <tr>\n",
       "      <th>21</th>\n",
       "      <td>CHIL 2021</td>\n",
       "      <td>Real-Time Seizure Detection using EEG: A Compr...</td>\n",
       "      <td>True</td>\n",
       "    </tr>\n",
       "    <tr>\n",
       "      <th>22</th>\n",
       "      <td>CHIL 2021</td>\n",
       "      <td>Identification of Subgroups With Similar Benef...</td>\n",
       "      <td>True</td>\n",
       "    </tr>\n",
       "    <tr>\n",
       "      <th>23</th>\n",
       "      <td>CHIL 2021</td>\n",
       "      <td>PhysioMTL: Personalizing Physiological Pattern...</td>\n",
       "      <td>True</td>\n",
       "    </tr>\n",
       "  </tbody>\n",
       "</table>\n",
       "</div>"
      ],
      "text/plain": [
       "        Venue                                              Title  included\n",
       "0   CHIL 2021  Conference on Health, Inference, and Learning ...     False\n",
       "1   CHIL 2021           Data Augmentation for Electrocardiograms      True\n",
       "2   CHIL 2021  Practical Challenges in Differentially-Private...      True\n",
       "3   CHIL 2021  Disability prediction in multiple sclerosis us...      True\n",
       "4   CHIL 2021  MedMCQA: A Large-scale Multi-Subject Multi-Cho...      True\n",
       "5   CHIL 2021  Improving the Fairness of Chest X-ray Classifiers      True\n",
       "6   CHIL 2021  Lead-agnostic Self-supervised Learning for Loc...      True\n",
       "7   CHIL 2021  Learning Unsupervised Representations for ICU ...      True\n",
       "8   CHIL 2021  Context-Sensitive Spelling Correction of Clini...      True\n",
       "9   CHIL 2021  Unifying Heterogeneous Electronic Health Recor...      True\n",
       "10  CHIL 2021  Uncertainty-Aware Text-to-Program for Question...      True\n",
       "11  CHIL 2021  How to validate Machine Learning Models Prior ...      True\n",
       "12  CHIL 2021  ADCB: An Alzheimer’s disease simulator for ben...      True\n",
       "13  CHIL 2021  Semi-Markov Offline Reinforcement Learning for...      True\n",
       "14  CHIL 2021  Neural Survival Clustering: Non-parametric mix...      True\n",
       "15  CHIL 2021  Graph-Text Multi-Modal Pre-training for Medica...      True\n",
       "16  CHIL 2021  Estimating Model Performance on External Sampl...      True\n",
       "17  CHIL 2021  Enriching Unsupervised User Embedding via Medi...      True\n",
       "18  CHIL 2021  Evaluating Domain Generalization for Survival ...      True\n",
       "19  CHIL 2021  Multi-Task Adversarial Learning for Treatment ...      True\n",
       "20  CHIL 2021  Counterfactually Guided Policy Transfer in Cli...      True\n",
       "21  CHIL 2021  Real-Time Seizure Detection using EEG: A Compr...      True\n",
       "22  CHIL 2021  Identification of Subgroups With Similar Benef...      True\n",
       "23  CHIL 2021  PhysioMTL: Personalizing Physiological Pattern...      True"
      ]
     },
     "execution_count": 17,
     "metadata": {},
     "output_type": "execute_result"
    }
   ],
   "source": [
    "match_dataset"
   ]
  },
  {
   "cell_type": "code",
   "execution_count": 18,
   "id": "81acd82d-3ef1-4891-8b7c-5782d977e395",
   "metadata": {},
   "outputs": [],
   "source": [
    "match_dataset.to_csv('data/ResearchPapers.csv')"
   ]
  },
  {
   "cell_type": "code",
   "execution_count": 19,
   "id": "7178afa6-f76f-4527-8261-aea607b5c121",
   "metadata": {},
   "outputs": [],
   "source": [
    "#WARNING: Preface.pdf"
   ]
  }
 ],
 "metadata": {
  "kernelspec": {
   "display_name": "Python 3",
   "language": "python",
   "name": "python3"
  },
  "language_info": {
   "codemirror_mode": {
    "name": "ipython",
    "version": 3
   },
   "file_extension": ".py",
   "mimetype": "text/x-python",
   "name": "python",
   "nbconvert_exporter": "python",
   "pygments_lexer": "ipython3",
   "version": "3.10.5"
  }
 },
 "nbformat": 4,
 "nbformat_minor": 5
}
