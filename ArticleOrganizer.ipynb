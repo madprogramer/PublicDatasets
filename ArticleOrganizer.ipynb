{
 "cells": [
  {
   "cell_type": "markdown",
   "id": "4aae19a5-2b6b-4a91-87ec-3af8ae156520",
   "metadata": {},
   "source": [
    "# PublicDatasets"
   ]
  },
  {
   "cell_type": "markdown",
   "id": "e2a76a51-a8cd-41de-a232-55756397f486",
   "metadata": {},
   "source": [
    "## 1. Introduction"
   ]
  },
  {
   "cell_type": "markdown",
   "id": "b5bf9901-0fec-4c91-b5af-e419a8577b5f",
   "metadata": {},
   "source": [
    "### 1.1 Info"
   ]
  },
  {
   "cell_type": "markdown",
   "id": "7505ec4a-8a40-4cba-969b-2704d42b5994",
   "metadata": {},
   "source": [
    "**Current Pipeline:**\n",
    "\n",
    "* First pick targets\n",
    "* Find appropriate input\n",
    "* Run Downloader\n",
    "* Read PDFs\n",
    "* Query for Relations\n",
    "* Save Results"
   ]
  },
  {
   "cell_type": "markdown",
   "id": "800de180-7787-47c0-8d9f-dba9bca56e98",
   "metadata": {},
   "source": [
    "#### 1.1.1 Target Venues"
   ]
  },
  {
   "cell_type": "markdown",
   "id": "0d8bb5d1-d476-4a6f-98dd-0c6b163f7609",
   "metadata": {},
   "source": [
    "* MIDL 2021\n",
    "  * Proceedings to use: https://proceedings.mlr.press/v143/"
   ]
  },
  {
   "cell_type": "code",
   "execution_count": 1,
   "id": "2b0ed703-7134-4441-8a66-0a5d7aec1e21",
   "metadata": {},
   "outputs": [],
   "source": [
    "venues = ['MIDL 2021',\n",
    "          'CHIL 2021',\n",
    "          'ML4H 2020',\n",
    "          'ML4H 2021'\n",
    "         ]"
   ]
  },
  {
   "cell_type": "code",
   "execution_count": 2,
   "id": "edf0ed7a-78c4-4a68-88e3-ac9a436a4cd1",
   "metadata": {},
   "outputs": [],
   "source": [
    "special_separator = '___'"
   ]
  },
  {
   "cell_type": "markdown",
   "id": "c9dc3ad1-1f9c-460f-a34d-7b0a1d7e4041",
   "metadata": {},
   "source": [
    "#### 1.1.2 Target Datasets"
   ]
  },
  {
   "cell_type": "markdown",
   "id": "16d7c5a5-4944-431c-8d39-669466a6b8e8",
   "metadata": {},
   "source": [
    "* [Data Science Bowl 2017](https://www.kaggle.com/c/data-science-bowl-2017)\n",
    "  * See here for literature: https://scholar.google.com/scholar?hl=en&as_sdt=0%2C5&q=%22data+science+bowl%22+%2B+lung&btnG="
   ]
  },
  {
   "cell_type": "markdown",
   "id": "281f0127-6c18-458e-9b98-ac30ea8f60bb",
   "metadata": {},
   "source": [
    "### 1.2 Imports"
   ]
  },
  {
   "cell_type": "code",
   "execution_count": 3,
   "id": "769c6abb-7729-4e01-8e7d-82c18c70f478",
   "metadata": {},
   "outputs": [],
   "source": [
    "import os,sys\n",
    "import scrapy\n",
    "import pdfminer\n",
    "import pandas as pd"
   ]
  },
  {
   "cell_type": "code",
   "execution_count": 4,
   "id": "ae2c5409-e855-4135-aaa2-b14b24f3dad4",
   "metadata": {},
   "outputs": [],
   "source": [
    "import warnings\n",
    "warnings.filterwarnings('ignore')\n",
    "\n",
    "import logging\n",
    "logging.getLogger(\"scrapy\").setLevel(logging.CRITICAL)\n",
    "logging.getLogger(\"pdfminer\").setLevel(logging.CRITICAL)"
   ]
  },
  {
   "cell_type": "markdown",
   "id": "0caaa310-bbb5-425d-b6c1-290a80f88890",
   "metadata": {},
   "source": [
    "### 1.3 Misc. Variables"
   ]
  },
  {
   "cell_type": "code",
   "execution_count": 5,
   "id": "093e8ab0-c6e5-42ae-bbc8-67e7a9d32a70",
   "metadata": {},
   "outputs": [],
   "source": [
    "pdfs=[]\n",
    "texts=[]\n",
    "\n",
    "#dois=[]\n",
    "titles=[]\n",
    "paper_venues=[]"
   ]
  },
  {
   "cell_type": "markdown",
   "id": "f37a6300-4141-4307-a08d-105a77dc5f25",
   "metadata": {},
   "source": [
    "## 2. Input"
   ]
  },
  {
   "cell_type": "markdown",
   "id": "2924bd23-cca3-4c28-8e37-516801d7ecaf",
   "metadata": {},
   "source": [
    "### 2.1 PDF Sources"
   ]
  },
  {
   "cell_type": "code",
   "execution_count": 6,
   "id": "88d090d0-59a4-47ad-9457-da4b0fed8804",
   "metadata": {},
   "outputs": [],
   "source": [
    "pdf_urls = [\n",
    "            'https://proceedings.mlr.press/v143/', #MIDL 2021\n",
    "            'https://proceedings.mlr.press/v174/', #CHIL 2021\n",
    "            'https://proceedings.mlr.press/v136/', #ML4H 2020\n",
    "            'https://proceedings.mlr.press/v158/', #ML4H 2021\n",
    "        ]\n",
    "\n",
    "venue_labels = {\n",
    "            'https://proceedings.mlr.press/v143/':'MIDL 2021',\n",
    "            'https://proceedings.mlr.press/v174/':'CHIL 2021',\n",
    "            'https://proceedings.mlr.press/v136/':'ML4H 2020',\n",
    "            'https://proceedings.mlr.press/v158/':'ML4H 2021'\n",
    "}\n",
    "\n",
    "\n",
    "# To Do: move these under `ArticleScraper/ArticleScraper/spiders`"
   ]
  },
  {
   "cell_type": "markdown",
   "id": "0c3b64e2-d61c-4fdd-9d91-90c9ed152b1c",
   "metadata": {},
   "source": [
    "## 3. Crawler/Downloader"
   ]
  },
  {
   "cell_type": "markdown",
   "id": "b79f70c4-fabe-44e7-abae-91713228d51f",
   "metadata": {},
   "source": [
    "Make directory for pdfs if it does not exist"
   ]
  },
  {
   "cell_type": "code",
   "execution_count": 9,
   "id": "c9e71883-b5f7-4400-856a-e5be3776b072",
   "metadata": {},
   "outputs": [
    {
     "name": "stdout",
     "output_type": "stream",
     "text": [
      "mkdir: data/pdfs: File exists\n"
     ]
    }
   ],
   "source": [
    "!mkdir data/pdfs"
   ]
  },
  {
   "cell_type": "code",
   "execution_count": null,
   "id": "8bbf760b-d1e8-491a-9f0f-1a885bc00ec8",
   "metadata": {},
   "outputs": [],
   "source": []
  },
  {
   "cell_type": "code",
   "execution_count": 10,
   "id": "358b457e-2720-45a9-a282-e00415b177a7",
   "metadata": {},
   "outputs": [
    {
     "name": "stderr",
     "output_type": "stream",
     "text": [
      "2022-10-30 23:17:03 [scrapy.utils.log] INFO: Scrapy 2.6.3 started (bot: scrapybot)\n",
      "2022-10-30 23:17:03 [scrapy.utils.log] INFO: Versions: lxml 4.9.1.0, libxml2 2.9.4, cssselect 1.1.0, parsel 1.6.0, w3lib 2.0.1, Twisted 22.8.0, Python 3.10.5 (v3.10.5:f377153967, Jun  6 2022, 12:36:10) [Clang 13.0.0 (clang-1300.0.29.30)], pyOpenSSL 22.1.0 (OpenSSL 3.0.5 5 Jul 2022), cryptography 38.0.1, Platform macOS-12.6-x86_64-i386-64bit\n",
      "2022-10-30 23:17:03 [scrapy.crawler] INFO: Overridden settings:\n",
      "{}\n",
      "2022-10-30 23:17:03 [scrapy.utils.log] DEBUG: Using reactor: twisted.internet.selectreactor.SelectReactor\n",
      "2022-10-30 23:17:03 [scrapy.extensions.telnet] INFO: Telnet Password: f2b02cf97fd10a70\n",
      "2022-10-30 23:17:03 [scrapy.middleware] INFO: Enabled extensions:\n",
      "['scrapy.extensions.corestats.CoreStats',\n",
      " 'scrapy.extensions.telnet.TelnetConsole',\n",
      " 'scrapy.extensions.memusage.MemoryUsage',\n",
      " 'scrapy.extensions.logstats.LogStats']\n",
      "2022-10-30 23:17:03 [scrapy.middleware] INFO: Enabled downloader middlewares:\n",
      "['scrapy.downloadermiddlewares.httpauth.HttpAuthMiddleware',\n",
      " 'scrapy.downloadermiddlewares.downloadtimeout.DownloadTimeoutMiddleware',\n",
      " 'scrapy.downloadermiddlewares.defaultheaders.DefaultHeadersMiddleware',\n",
      " 'scrapy.downloadermiddlewares.useragent.UserAgentMiddleware',\n",
      " 'scrapy.downloadermiddlewares.retry.RetryMiddleware',\n",
      " 'scrapy.downloadermiddlewares.redirect.MetaRefreshMiddleware',\n",
      " 'scrapy.downloadermiddlewares.httpcompression.HttpCompressionMiddleware',\n",
      " 'scrapy.downloadermiddlewares.redirect.RedirectMiddleware',\n",
      " 'scrapy.downloadermiddlewares.cookies.CookiesMiddleware',\n",
      " 'scrapy.downloadermiddlewares.httpproxy.HttpProxyMiddleware',\n",
      " 'scrapy.downloadermiddlewares.stats.DownloaderStats']\n",
      "2022-10-30 23:17:03 [scrapy.middleware] INFO: Enabled spider middlewares:\n",
      "['scrapy.spidermiddlewares.httperror.HttpErrorMiddleware',\n",
      " 'scrapy.spidermiddlewares.offsite.OffsiteMiddleware',\n",
      " 'scrapy.spidermiddlewares.referer.RefererMiddleware',\n",
      " 'scrapy.spidermiddlewares.urllength.UrlLengthMiddleware',\n",
      " 'scrapy.spidermiddlewares.depth.DepthMiddleware']\n",
      "2022-10-30 23:17:03 [scrapy.middleware] INFO: Enabled item pipelines:\n",
      "[]\n",
      "2022-10-30 23:17:03 [scrapy.core.engine] INFO: Spider opened\n",
      "2022-10-30 23:17:03 [scrapy.extensions.logstats] INFO: Crawled 0 pages (at 0 pages/min), scraped 0 items (at 0 items/min)\n",
      "2022-10-30 23:17:03 [scrapy.extensions.telnet] INFO: Telnet console listening on 127.0.0.1:6023\n",
      "2022-10-30 23:17:04 [scrapy.core.engine] DEBUG: Crawled (200) <GET https://proceedings.mlr.press/v158/> (referer: None)\n",
      "2022-10-30 23:17:04 [scrapy.core.engine] DEBUG: Crawled (200) <GET https://proceedings.mlr.press/v136/> (referer: None)\n",
      "2022-10-30 23:17:04 [scrapy.core.engine] DEBUG: Crawled (200) <GET https://proceedings.mlr.press/v174/> (referer: None)\n",
      "2022-10-30 23:17:04 [scrapy.core.engine] DEBUG: Crawled (200) <GET https://proceedings.mlr.press/v143/> (referer: None)\n"
     ]
    },
    {
     "name": "stdout",
     "output_type": "stream",
     "text": [
      "Request url must be str, got NoneType\n",
      "Request url must be str, got NoneType\n",
      "Request url must be str, got NoneType\n",
      "Request url must be str, got NoneType\n"
     ]
    },
    {
     "name": "stderr",
     "output_type": "stream",
     "text": [
      "2022-10-30 23:17:04 [scrapy.core.engine] DEBUG: Crawled (200) <GET http://proceedings.mlr.press/v136/uyttenhove20a/uyttenhove20a.pdf> (referer: None)\n",
      "2022-10-30 23:17:04 [scrapy.core.engine] DEBUG: Crawled (200) <GET http://proceedings.mlr.press/v136/wagh20a/wagh20a.pdf> (referer: None)\n",
      "2022-10-30 23:17:04 [MLR_Press] INFO: Saving PDF Interpretable Epilepsy Detection in Routine, Interictal EEG Data using Deep Learning.PDF\n",
      "2022-10-30 23:17:04 [scrapy.core.engine] DEBUG: Crawled (200) <GET http://proceedings.mlr.press/v136/wang20a/wang20a.pdf> (referer: None)\n",
      "2022-10-30 23:17:04 [MLR_Press] INFO: Saving PDF EEG-GCNN: Augmenting Electroencephalogram-based Neurological Disease Diagnosis using a Domain-guided Graph Convolutional Neural Network.PDF\n",
      "2022-10-30 23:17:04 [MLR_Press] INFO: Saving PDF Confounding Feature Acquisition for Causal Effect Estimation.PDF\n",
      "2022-10-30 23:17:05 [scrapy.core.engine] DEBUG: Crawled (200) <GET http://proceedings.mlr.press/v136/weng20a/weng20a.pdf> (referer: None)\n",
      "2022-10-30 23:17:05 [scrapy.core.engine] DEBUG: Crawled (200) <GET http://proceedings.mlr.press/v136/nadler20a/nadler20a.pdf> (referer: None)\n",
      "2022-10-30 23:17:05 [MLR_Press] INFO: Saving PDF Addressing the Real-world Class Imbalance Problem in Dermatology.PDF\n",
      "2022-10-30 23:17:05 [MLR_Press] INFO: Saving PDF A Neural SIR Model for Global Forecasting.PDF\n",
      "2022-10-30 23:17:05 [scrapy.core.engine] DEBUG: Crawled (200) <GET http://proceedings.mlr.press/v136/phillips20a/phillips20a.pdf> (referer: None)\n",
      "2022-10-30 23:17:05 [MLR_Press] INFO: Saving PDF CheXphoto: 10,000+ Photos and Transformations of Chest X-rays for Benchmarking Deep Learning Robustness.PDF\n",
      "2022-10-30 23:17:05 [scrapy.core.engine] DEBUG: Crawled (200) <GET http://proceedings.mlr.press/v136/mashouri20a/mashouri20a.pdf> (referer: None)\n",
      "2022-10-30 23:17:05 [MLR_Press] INFO: Saving PDF 3D Photography Based Neural Network Craniosynostosis Triaging System.PDF\n",
      "2022-10-30 23:17:05 [scrapy.core.engine] DEBUG: Crawled (200) <GET http://proceedings.mlr.press/v136/nguyen20a/nguyen20a.pdf> (referer: None)\n",
      "2022-10-30 23:17:05 [MLR_Press] INFO: Saving PDF Attend and Decode: 4D fMRI Task State Decoding Using Attention Models.PDF\n",
      "2022-10-30 23:17:06 [scrapy.core.engine] DEBUG: Crawled (200) <GET http://proceedings.mlr.press/v136/weiss20a/weiss20a.pdf> (referer: None)\n",
      "2022-10-30 23:17:06 [MLR_Press] INFO: Saving PDF TL-Lite: Temporal Visualization and Learning for Clinical Forecasting.PDF\n",
      "2022-10-30 23:17:07 [scrapy.core.engine] DEBUG: Crawled (200) <GET https://proceedings.mlr.press/v143/zhang21c/zhang21c.pdf> (referer: https://proceedings.mlr.press/v143/)\n",
      "2022-10-30 23:17:07 [scrapy.core.engine] DEBUG: Crawled (200) <GET http://proceedings.mlr.press/v136/laumer20a/laumer20a.pdf> (referer: None)\n",
      "2022-10-30 23:17:07 [MLR_Press] INFO: Saving PDF Hybrid optimization between iterative and network fine-tuning reconstructions for fast quantitative susceptibility mapping.PDF\n",
      "2022-10-30 23:17:07 [MLR_Press] INFO: Saving PDF DeepHeartBeat: Latent trajectory learning of cardiac cycles using cardiac ultrasounds.PDF\n",
      "2022-10-30 23:17:07 [scrapy.core.engine] DEBUG: Crawled (200) <GET http://proceedings.mlr.press/v136/ulmer20a/ulmer20a.pdf> (referer: None)\n",
      "2022-10-30 23:17:07 [scrapy.core.engine] DEBUG: Crawled (200) <GET https://proceedings.mlr.press/v143/zhang21b/zhang21b.pdf> (referer: https://proceedings.mlr.press/v143/)\n",
      "2022-10-30 23:17:07 [MLR_Press] INFO: Saving PDF Trust Issues: Uncertainty Estimation Does Not Enable Reliable OOD Detection On Medical Tabular Data.PDF\n",
      "2022-10-30 23:17:07 [MLR_Press] INFO: Saving PDF SWNet: Surgical Workflow Recognition with Deep Convolutional Network.PDF\n",
      "2022-10-30 23:17:08 [scrapy.core.engine] DEBUG: Crawled (200) <GET http://proceedings.mlr.press/v136/leeftink20a/leeftink20a.pdf> (referer: None)\n",
      "2022-10-30 23:17:08 [MLR_Press] INFO: Saving PDF Spectral discontinuity design: Interrupted time series with spectral mixture kernels.PDF\n",
      "2022-10-30 23:17:09 [scrapy.core.engine] DEBUG: Crawled (200) <GET http://proceedings.mlr.press/v136/mohsenvand20a/mohsenvand20a.pdf> (referer: None)\n",
      "2022-10-30 23:17:09 [scrapy.core.engine] DEBUG: Crawled (200) <GET http://proceedings.mlr.press/v136/kwon20a/kwon20a.pdf> (referer: None)\n",
      "2022-10-30 23:17:09 [MLR_Press] INFO: Saving PDF Contrastive Representation Learning for Electroencephalogram Classification.PDF\n",
      "2022-10-30 23:17:09 [MLR_Press] INFO: Saving PDF Appropriate Evaluation of Diagnostic Utility of Machine Learning Algorithm Generated Images.PDF\n",
      "2022-10-30 23:17:09 [scrapy.core.engine] DEBUG: Crawled (200) <GET https://proceedings.mlr.press/v143/zhang21a/zhang21a.pdf> (referer: https://proceedings.mlr.press/v143/)\n",
      "2022-10-30 23:17:09 [scrapy.core.engine] DEBUG: Crawled (200) <GET https://proceedings.mlr.press/v143/vadacchino21a/vadacchino21a.pdf> (referer: https://proceedings.mlr.press/v143/)\n",
      "2022-10-30 23:17:09 [MLR_Press] INFO: Saving PDF A regularization term for slide correlation reduction in whole slide image analysis with deep learning.PDF\n",
      "2022-10-30 23:17:09 [MLR_Press] INFO: Saving PDF HAD-Net: A Hierarchical Adversarial Knowledge Distillation Network for Improved Enhanced Tumour Segmentation Without Post-Contrast Images.PDF\n",
      "2022-10-30 23:17:09 [scrapy.core.engine] DEBUG: Crawled (200) <GET https://proceedings.mlr.press/v143/uzunova21a/uzunova21a.pdf> (referer: https://proceedings.mlr.press/v143/)\n",
      "2022-10-30 23:17:09 [scrapy.core.engine] DEBUG: Crawled (200) <GET https://proceedings.mlr.press/v143/turja21a/turja21a.pdf> (referer: https://proceedings.mlr.press/v143/)\n",
      "2022-10-30 23:17:09 [MLR_Press] INFO: Saving PDF Guided Filter Regularization for Improved Disentanglement of Shape and Appearance in Diffeomorphic Autoencoders.PDF\n",
      "2022-10-30 23:17:09 [MLR_Press] INFO: Saving PDF Learning the Latent Heat Diffusion Process through Structural Brain Network from Longitudinal $\\beta$-Amyloid Data.PDF\n",
      "2022-10-30 23:17:09 [scrapy.core.engine] DEBUG: Crawled (200) <GET https://proceedings.mlr.press/v143/sowrirajan21a/sowrirajan21a.pdf> (referer: https://proceedings.mlr.press/v143/)\n",
      "2022-10-30 23:17:10 [MLR_Press] INFO: Saving PDF MoCo Pretraining Improves Representation and Transferability of Chest X-ray Models.PDF\n",
      "2022-10-30 23:17:10 [scrapy.core.engine] DEBUG: Crawled (200) <GET http://proceedings.mlr.press/v136/oala20a/oala20a.pdf> (referer: None)\n",
      "2022-10-30 23:17:10 [scrapy.core.engine] DEBUG: Crawled (200) <GET https://proceedings.mlr.press/v143/simko21a/simko21a.pdf> (referer: https://proceedings.mlr.press/v143/)\n",
      "2022-10-30 23:17:10 [MLR_Press] INFO: Saving PDF ML4H Auditing: From Paper to Practice.PDF\n",
      "2022-10-30 23:17:10 [scrapy.core.engine] DEBUG: Crawled (200) <GET https://proceedings.mlr.press/v143/wood21a/wood21a.pdf> (referer: https://proceedings.mlr.press/v143/)\n",
      "2022-10-30 23:17:10 [MLR_Press] INFO: Saving PDF Changing the Contrast of Magnetic Resonance Imaging Signals using Deep Learning.PDF\n",
      "2022-10-30 23:17:10 [scrapy.core.engine] DEBUG: Crawled (200) <GET https://proceedings.mlr.press/v143/harten21a/harten21a.pdf> (referer: https://proceedings.mlr.press/v143/)\n",
      "2022-10-30 23:17:10 [MLR_Press] INFO: Saving PDF Automated triaging of head MRI examinations using convolutional neural networks.PDF\n",
      "2022-10-30 23:17:10 [MLR_Press] INFO: Saving PDF Untangling the Small Intestine in 3D cine-MRI using Deep Stochastic Tracking.PDF\n",
      "2022-10-30 23:17:10 [scrapy.core.engine] DEBUG: Crawled (200) <GET https://proceedings.mlr.press/v143/sharma21a/sharma21a.pdf> (referer: https://proceedings.mlr.press/v143/)\n",
      "2022-10-30 23:17:10 [MLR_Press] INFO: Saving PDF Cluster-to-Conquer: A Framework for End-to-End Multi-Instance Learning for Whole Slide Image Classification.PDF\n",
      "2022-10-30 23:17:11 [scrapy.core.engine] DEBUG: Crawled (200) <GET https://proceedings.mlr.press/v143/shi21a/shi21a.pdf> (referer: https://proceedings.mlr.press/v143/)\n",
      "2022-10-30 23:17:11 [MLR_Press] INFO: Saving PDF Unseen Disease Detection for Deep Learning Interpretation of Chest X-rays.PDF\n",
      "2022-10-30 23:17:14 [scrapy.core.engine] DEBUG: Crawled (200) <GET https://proceedings.mlr.press/v143/rajagopal21a/rajagopal21a.pdf> (referer: https://proceedings.mlr.press/v143/)\n",
      "2022-10-30 23:17:14 [MLR_Press] INFO: Saving PDF Understanding and Visualizing Generalization in UNets.PDF\n",
      "2022-10-30 23:17:17 [scrapy.core.engine] DEBUG: Crawled (200) <GET http://proceedings.mlr.press/v136/stacke20a/stacke20a.pdf> (referer: None)\n",
      "2022-10-30 23:17:18 [MLR_Press] INFO: Saving PDF Evaluation of Contrastive Predictive Coding for Histopathology Applications.PDF\n",
      "2022-10-30 23:17:18 [scrapy.core.engine] DEBUG: Crawled (200) <GET https://proceedings.mlr.press/v143/olivier21a/olivier21a.pdf> (referer: https://proceedings.mlr.press/v143/)\n",
      "2022-10-30 23:17:18 [MLR_Press] INFO: Saving PDF Balanced sampling for an object detection problem - application to fetal anatomies detection.PDF\n",
      "2022-10-30 23:17:18 [scrapy.core.engine] DEBUG: Crawled (200) <GET https://proceedings.mlr.press/v143/nguyen21a/nguyen21a.pdf> (referer: https://proceedings.mlr.press/v143/)\n",
      "2022-10-30 23:17:18 [MLR_Press] INFO: Saving PDF GOAL: Gist-set Online Active Learning for Efficient Chest X-ray Image Annotation.PDF\n",
      "2022-10-30 23:17:19 [scrapy.core.engine] DEBUG: Crawled (200) <GET https://proceedings.mlr.press/v143/qiu21a/qiu21a.pdf> (referer: https://proceedings.mlr.press/v143/)\n",
      "2022-10-30 23:17:19 [MLR_Press] INFO: Saving PDF Learning Diffeomorphic and Modality-invariant Registration using B-splines.PDF\n",
      "2022-10-30 23:17:20 [scrapy.core.engine] DEBUG: Crawled (200) <GET https://proceedings.mlr.press/v143/pirkl21a/pirkl21a.pdf> (referer: https://proceedings.mlr.press/v143/)\n",
      "2022-10-30 23:17:20 [scrapy.core.engine] DEBUG: Crawled (200) <GET https://proceedings.mlr.press/v143/neimark21a/neimark21a.pdf> (referer: https://proceedings.mlr.press/v143/)\n",
      "2022-10-30 23:17:20 [MLR_Press] INFO: Saving PDF Residual learning for 3D motion corrected quantitative MRI: Robust clinical T1, T2 and proton density mapping.PDF\n",
      "2022-10-30 23:17:20 [MLR_Press] INFO: Saving PDF “Train one, Classify one, Teach one” - Cross-surgery transfer learning for surgical step recognition.PDF\n",
      "2022-10-30 23:17:20 [scrapy.core.engine] DEBUG: Crawled (200) <GET https://proceedings.mlr.press/v143/tolle21a/tolle21a.pdf> (referer: https://proceedings.mlr.press/v143/)\n",
      "2022-10-30 23:17:20 [MLR_Press] INFO: Saving PDF A Mean-Field Variational Inference Approach to Deep Image Prior for Inverse Problems in Medical Imaging.PDF\n",
      "2022-10-30 23:17:20 [scrapy.core.engine] DEBUG: Crawled (200) <GET https://proceedings.mlr.press/v143/mouches21a/mouches21a.pdf> (referer: https://proceedings.mlr.press/v143/)\n",
      "2022-10-30 23:17:20 [MLR_Press] INFO: Saving PDF Unifying Brain Age Prediction and Age-Conditioned Template Generation with a Deterministic Autoencoder.PDF\n",
      "2022-10-30 23:17:21 [scrapy.core.engine] DEBUG: Crawled (200) <GET https://proceedings.mlr.press/v143/maheshwari21a/maheshwari21a.pdf> (referer: https://proceedings.mlr.press/v143/)\n",
      "2022-10-30 23:17:21 [MLR_Press] INFO: Saving PDF Distill DSM: Computationally efficient method for segmentation of medical imaging volumes.PDF\n",
      "2022-10-30 23:17:21 [scrapy.core.engine] DEBUG: Crawled (200) <GET https://proceedings.mlr.press/v143/muhamedrahimov21a/muhamedrahimov21a.pdf> (referer: https://proceedings.mlr.press/v143/)\n",
      "2022-10-30 23:17:21 [MLR_Press] INFO: Saving PDF Learning Interclass Relations for Intravenous Contrast Phase Classification in CT.PDF\n",
      "2022-10-30 23:17:23 [scrapy.core.downloader.handlers.http11] WARNING: Expected response size (44066590) larger than download warn size (33554432) in request <GET https://proceedings.mlr.press/v143/liu21a/liu21a.pdf>.\n",
      "2022-10-30 23:17:23 [scrapy.core.engine] DEBUG: Crawled (200) <GET https://proceedings.mlr.press/v143/pinaya21a/pinaya21a.pdf> (referer: https://proceedings.mlr.press/v143/)\n",
      "2022-10-30 23:17:23 [MLR_Press] INFO: Saving PDF Unsupervised Brain Anomaly Detection and Segmentation with Transformers.PDF\n",
      "2022-10-30 23:17:28 [scrapy.core.engine] DEBUG: Crawled (200) <GET https://proceedings.mlr.press/v143/prieto21a/prieto21a.pdf> (referer: https://proceedings.mlr.press/v143/)\n",
      "2022-10-30 23:17:28 [MLR_Press] INFO: Saving PDF Image Sequence Generation and Analysis via GRU and Attention for Trachomatous Trichiasis Classification.PDF\n",
      "2022-10-30 23:17:30 [scrapy.core.engine] DEBUG: Crawled (200) <GET https://proceedings.mlr.press/v143/lemay21a/lemay21a.pdf> (referer: https://proceedings.mlr.press/v143/)\n",
      "2022-10-30 23:17:30 [MLR_Press] INFO: Saving PDF Benefits of Linear Conditioning for Segmentation using Metadata.PDF\n",
      "2022-10-30 23:17:31 [scrapy.core.engine] DEBUG: Crawled (200) <GET https://proceedings.mlr.press/v143/lalit21a/lalit21a.pdf> (referer: https://proceedings.mlr.press/v143/)\n",
      "2022-10-30 23:17:31 [MLR_Press] INFO: Saving PDF Embedding-based Instance Segmentation in Microscopy.PDF\n",
      "2022-10-30 23:17:33 [scrapy.core.engine] DEBUG: Crawled (200) <GET https://proceedings.mlr.press/v143/konwer21a/konwer21a.pdf> (referer: https://proceedings.mlr.press/v143/)\n",
      "2022-10-30 23:17:33 [MLR_Press] INFO: Saving PDF Predicting COVID-19 Lung Infiltrate Progression on Chest Radiographs Using Spatio-temporal LSTM based Encoder-Decoder Network.PDF\n",
      "2022-10-30 23:17:33 [scrapy.core.engine] DEBUG: Crawled (200) <GET https://proceedings.mlr.press/v143/philipp21a/philipp21a.pdf> (referer: https://proceedings.mlr.press/v143/)\n",
      "2022-10-30 23:17:33 [MLR_Press] INFO: Saving PDF Localizing Neurosurgical Instruments Across Domains and in the Wild.PDF\n",
      "2022-10-30 23:17:34 [scrapy.core.engine] DEBUG: Crawled (200) <GET https://proceedings.mlr.press/v143/kist21a/kist21a.pdf> (referer: https://proceedings.mlr.press/v143/)\n",
      "2022-10-30 23:17:34 [scrapy.core.engine] DEBUG: Crawled (200) <GET https://proceedings.mlr.press/v143/kanavati21a/kanavati21a.pdf> (referer: https://proceedings.mlr.press/v143/)\n",
      "2022-10-30 23:17:34 [MLR_Press] INFO: Saving PDF Feature-based image registration in structured light endoscopy.PDF\n",
      "2022-10-30 23:17:34 [MLR_Press] INFO: Saving PDF Partial transfusion: on the expressive influence of trainable batch norm parameters for transfer learning.PDF\n",
      "2022-10-30 23:17:35 [scrapy.core.engine] DEBUG: Crawled (200) <GET https://proceedings.mlr.press/v143/hu21a/hu21a.pdf> (referer: https://proceedings.mlr.press/v143/)\n",
      "2022-10-30 23:17:35 [MLR_Press] INFO: Saving PDF Feedback Graph Attention Convolutional Network for MR Images Enhancement by Exploring Self-Similarity Features.PDF\n",
      "2022-10-30 23:17:36 [scrapy.core.engine] DEBUG: Crawled (200) <GET https://proceedings.mlr.press/v143/hemati21a/hemati21a.pdf> (referer: https://proceedings.mlr.press/v143/)\n",
      "2022-10-30 23:17:36 [MLR_Press] INFO: Saving PDF CNN and Deep Sets for End-to-End Whole Slide Image Representation Learning.PDF\n",
      "2022-10-30 23:17:36 [scrapy.core.engine] DEBUG: Crawled (200) <GET https://proceedings.mlr.press/v143/heer21a/heer21a.pdf> (referer: https://proceedings.mlr.press/v143/)\n",
      "2022-10-30 23:17:36 [MLR_Press] INFO: Saving PDF The OOD Blind Spot of Unsupervised Anomaly Detection.PDF\n",
      "2022-10-30 23:17:37 [scrapy.core.engine] DEBUG: Crawled (200) <GET https://proceedings.mlr.press/v143/he21a/he21a.pdf> (referer: https://proceedings.mlr.press/v143/)\n",
      "2022-10-30 23:17:37 [MLR_Press] INFO: Saving PDF Weakly Supervised Volumetric Segmentation via Self-taught Shape Denoising Model.PDF\n",
      "2022-10-30 23:17:37 [scrapy.core.engine] DEBUG: Crawled (200) <GET https://proceedings.mlr.press/v143/ozer21a/ozer21a.pdf> (referer: https://proceedings.mlr.press/v143/)\n",
      "2022-10-30 23:17:37 [scrapy.core.engine] DEBUG: Crawled (200) <GET https://proceedings.mlr.press/v143/hagenah21a/hagenah21a.pdf> (referer: https://proceedings.mlr.press/v143/)\n",
      "2022-10-30 23:17:38 [MLR_Press] INFO: Saving PDF Explainable Image Quality Analysis of Chest X-Rays.PDF\n",
      "2022-10-30 23:17:38 [MLR_Press] INFO: Saving PDF Discrete Pseudohealthy Synthesis: Aortic Root Shape Typification and Type Classification with Pathological Prior.PDF\n",
      "2022-10-30 23:17:38 [scrapy.core.engine] DEBUG: Crawled (200) <GET https://proceedings.mlr.press/v143/kervadec21a/kervadec21a.pdf> (referer: https://proceedings.mlr.press/v143/)\n",
      "2022-10-30 23:17:38 [MLR_Press] INFO: Saving PDF Beyond pixel-wise supervision for segmentation: A few global shape descriptors might be surprisingly good!.PDF\n",
      "2022-10-30 23:17:38 [scrapy.core.engine] DEBUG: Crawled (200) <GET https://proceedings.mlr.press/v143/gruening21a/gruening21a.pdf> (referer: https://proceedings.mlr.press/v143/)\n",
      "2022-10-30 23:17:39 [MLR_Press] INFO: Saving PDF Direct Inference of Cell Positions using Lens-Free Microscopy and Deep Learning.PDF\n",
      "2022-10-30 23:17:39 [scrapy.core.engine] DEBUG: Crawled (200) <GET https://proceedings.mlr.press/v143/gupta21a/gupta21a.pdf> (referer: https://proceedings.mlr.press/v143/)\n",
      "2022-10-30 23:17:39 [scrapy.core.engine] DEBUG: Crawled (200) <GET https://proceedings.mlr.press/v143/gonzalez21a/gonzalez21a.pdf> (referer: https://proceedings.mlr.press/v143/)\n",
      "2022-10-30 23:17:39 [scrapy.core.engine] DEBUG: Crawled (200) <GET https://proceedings.mlr.press/v143/liu21b/liu21b.pdf> (referer: https://proceedings.mlr.press/v143/)\n",
      "2022-10-30 23:17:39 [MLR_Press] INFO: Saving PDF Membership Inference Attacks on Deep Regression Models for Neuroimaging.PDF\n",
      "2022-10-30 23:17:39 [MLR_Press] INFO: Saving PDF Self-supervised Out-of-distribution Detection for Cardiac CMR Segmentation.PDF\n",
      "2022-10-30 23:17:39 [MLR_Press] INFO: Saving PDF Weakly-supervised High-resolution Segmentation of Mammography Images for Breast Cancer Diagnosis.PDF\n",
      "2022-10-30 23:17:39 [scrapy.core.engine] DEBUG: Crawled (200) <GET https://proceedings.mlr.press/v143/mairhofer21a/mairhofer21a.pdf> (referer: https://proceedings.mlr.press/v143/)\n",
      "2022-10-30 23:17:39 [MLR_Press] INFO: Saving PDF An AI-based Framework for Diagnostic Quality Assessment of Ankle Radiographs.PDF\n",
      "2022-10-30 23:17:40 [scrapy.core.engine] DEBUG: Crawled (200) <GET https://proceedings.mlr.press/v143/el-jurdi21a/el-jurdi21a.pdf> (referer: https://proceedings.mlr.press/v143/)\n",
      "2022-10-30 23:17:40 [MLR_Press] INFO: Saving PDF A Surprisingly Effective Perimeter-based Loss for Medical Image Segmentation.PDF\n",
      "2022-10-30 23:17:40 [scrapy.core.engine] DEBUG: Crawled (200) <GET https://proceedings.mlr.press/v143/gadgil21a/gadgil21a.pdf> (referer: https://proceedings.mlr.press/v143/)\n",
      "2022-10-30 23:17:40 [MLR_Press] INFO: Saving PDF CheXseg: Combining Expert Annotations with DNN-generated Saliency Maps for X-ray Segmentation.PDF\n",
      "2022-10-30 23:17:40 [scrapy.core.engine] DEBUG: Crawled (200) <GET https://proceedings.mlr.press/v143/hering21a/hering21a.pdf> (referer: https://proceedings.mlr.press/v143/)\n",
      "2022-10-30 23:17:40 [MLR_Press] INFO: Saving PDF Whole-Body Soft-Tissue Lesion Tracking and Segmentation in Longitudinal CT Imaging Studies.PDF\n",
      "2022-10-30 23:17:41 [scrapy.core.engine] DEBUG: Crawled (200) <GET https://proceedings.mlr.press/v143/dunnhofer21a/dunnhofer21a.pdf> (referer: https://proceedings.mlr.press/v143/)\n",
      "2022-10-30 23:17:41 [MLR_Press] INFO: Saving PDF Improving MRI-based Knee Disorder Diagnosis with Pyramidal Feature Details.PDF\n",
      "2022-10-30 23:17:41 [scrapy.core.engine] DEBUG: Crawled (200) <GET https://proceedings.mlr.press/v143/dsouza21a/dsouza21a.pdf> (referer: https://proceedings.mlr.press/v143/)\n",
      "2022-10-30 23:17:41 [MLR_Press] INFO: Saving PDF M-GCN: A Multimodal Graph Convolutional Network to Integrate Functional and Structural Connectomics Data to Predict Multidimensional Phenotypic Characterizations.PDF\n",
      "2022-10-30 23:17:42 [scrapy.core.engine] DEBUG: Crawled (200) <GET https://proceedings.mlr.press/v143/dzyubachyk21a/dzyubachyk21a.pdf> (referer: https://proceedings.mlr.press/v143/)\n",
      "2022-10-30 23:17:42 [MLR_Press] INFO: Saving PDF Intensity Correction and Standardization for Electron Microscopy Data.PDF\n",
      "2022-10-30 23:17:42 [scrapy.core.engine] DEBUG: Crawled (200) <GET https://proceedings.mlr.press/v143/feng21a/feng21a.pdf> (referer: https://proceedings.mlr.press/v143/)\n",
      "2022-10-30 23:17:42 [MLR_Press] INFO: Saving PDF Nuc2Vec: Learning Representations of Nuclei in Histopathology Images with Contrastive Loss.PDF\n",
      "2022-10-30 23:17:43 [scrapy.core.engine] DEBUG: Crawled (200) <GET https://proceedings.mlr.press/v143/czolbe21a/czolbe21a.pdf> (referer: https://proceedings.mlr.press/v143/)\n",
      "2022-10-30 23:17:43 [MLR_Press] INFO: Saving PDF Semantic similarity metrics for learned image registration.PDF\n",
      "2022-10-30 23:17:43 [scrapy.core.engine] DEBUG: Crawled (200) <GET https://proceedings.mlr.press/v143/amador21a/amador21a.pdf> (referer: https://proceedings.mlr.press/v143/)\n",
      "2022-10-30 23:17:43 [MLR_Press] INFO: Saving PDF Stroke Lesion Outcome Prediction Based on 4D CT Perfusion Data Using Temporal Convolutional Networks.PDF\n",
      "2022-10-30 23:17:44 [scrapy.core.engine] DEBUG: Crawled (200) <GET https://proceedings.mlr.press/v143/brudfors21a/brudfors21a.pdf> (referer: https://proceedings.mlr.press/v143/)\n",
      "2022-10-30 23:17:44 [MLR_Press] INFO: Saving PDF An MRF-UNet Product of Experts for Image Segmentation.PDF\n",
      "2022-10-30 23:17:44 [scrapy.core.engine] DEBUG: Crawled (200) <GET https://proceedings.mlr.press/v143/heinrich21a/heinrich21a.pdf> (referer: https://proceedings.mlr.press/v143/)\n",
      "2022-10-30 23:17:45 [MLR_Press] INFO: Saving PDF Preface.PDF\n",
      "2022-10-30 23:17:45 [scrapy.core.engine] DEBUG: Crawled (200) <GET https://proceedings.mlr.press/v143/cohen21a/cohen21a.pdf> (referer: https://proceedings.mlr.press/v143/)\n",
      "2022-10-30 23:17:45 [MLR_Press] INFO: Saving PDF Gifsplanation via Latent Shift: A Simple Autoencoder Approach to Counterfactual Generation for Chest X-rays.PDF\n",
      "2022-10-30 23:17:45 [scrapy.core.engine] DEBUG: Crawled (200) <GET https://proceedings.mlr.press/v174/rahimian22a/rahimian22a.pdf> (referer: https://proceedings.mlr.press/v174/)\n",
      "2022-10-30 23:17:45 [MLR_Press] INFO: Saving PDF Practical Challenges in Differentially-Private Federated Survival Analysis of Medical Data.PDF\n",
      "2022-10-30 23:17:47 [scrapy.core.engine] DEBUG: Crawled (200) <GET https://proceedings.mlr.press/v174/roy22a/roy22a.pdf> (referer: https://proceedings.mlr.press/v174/)\n",
      "2022-10-30 23:17:47 [MLR_Press] INFO: Saving PDF Disability prediction in multiple sclerosis using performance outcome measures and demographic data.PDF\n",
      "2022-10-30 23:17:48 [scrapy.core.engine] DEBUG: Crawled (200) <GET https://proceedings.mlr.press/v143/chu21a/chu21a.pdf> (referer: https://proceedings.mlr.press/v143/)\n",
      "2022-10-30 23:17:48 [MLR_Press] INFO: Saving PDF Improving Weakly Supervised Lesion Segmentation using Multi-Task Learning.PDF\n",
      "2022-10-30 23:17:48 [scrapy.core.engine] DEBUG: Crawled (200) <GET https://proceedings.mlr.press/v143/bargsten21a/bargsten21a.pdf> (referer: https://proceedings.mlr.press/v143/)\n",
      "2022-10-30 23:17:48 [MLR_Press] INFO: Saving PDF Attention via Scattering Transforms for Segmentation of Small Intravascular Ultrasound Data Sets.PDF\n",
      "2022-10-30 23:17:51 [scrapy.core.engine] DEBUG: Crawled (200) <GET https://proceedings.mlr.press/v174/oh22a/oh22a.pdf> (referer: https://proceedings.mlr.press/v174/)\n",
      "2022-10-30 23:17:52 [MLR_Press] INFO: Saving PDF Lead-agnostic Self-supervised Learning for Local and Global Representations of Electrocardiogram.PDF\n",
      "2022-10-30 23:17:52 [scrapy.core.engine] DEBUG: Crawled (200) <GET https://proceedings.mlr.press/v143/muhammad21a/muhammad21a.pdf> (referer: https://proceedings.mlr.press/v143/)\n",
      "2022-10-30 23:17:52 [MLR_Press] INFO: Saving PDF EPIC-Survival: End-to-end Part Inferred Clustering for Survival Analysis, with Prognostic Stratification Boosting.PDF\n",
      "2022-10-30 23:17:53 [scrapy.core.engine] DEBUG: Crawled (200) <GET https://proceedings.mlr.press/v174/raghu22a/raghu22a.pdf> (referer: https://proceedings.mlr.press/v174/)\n",
      "2022-10-30 23:17:53 [MLR_Press] INFO: Saving PDF Data Augmentation for Electrocardiograms.PDF\n",
      "2022-10-30 23:17:54 [scrapy.core.engine] DEBUG: Crawled (200) <GET https://proceedings.mlr.press/v174/pal22a/pal22a.pdf> (referer: https://proceedings.mlr.press/v174/)\n",
      "2022-10-30 23:17:54 [MLR_Press] INFO: Saving PDF MedMCQA: A Large-scale Multi-Subject Multi-Choice Dataset for Medical domain Question Answering.PDF\n",
      "2022-10-30 23:17:55 [scrapy.core.engine] DEBUG: Crawled (200) <GET https://proceedings.mlr.press/v143/abbet21a/abbet21a.pdf> (referer: https://proceedings.mlr.press/v143/)\n",
      "2022-10-30 23:17:55 [MLR_Press] INFO: Saving PDF Self-Rule to Adapt: Learning Generalized Features from Sparsely-Labeled Data Using Unsupervised Domain Adaptation for Colorectal Cancer Tissue Phenotyping.PDF\n",
      "2022-10-30 23:17:55 [scrapy.core.engine] DEBUG: Crawled (200) <GET https://proceedings.mlr.press/v174/kim22b/kim22b.pdf> (referer: https://proceedings.mlr.press/v174/)\n",
      "2022-10-30 23:17:55 [MLR_Press] INFO: Saving PDF Context-Sensitive Spelling Correction of Clinical Text via Conditional Independence.PDF\n",
      "2022-10-30 23:17:55 [scrapy.core.engine] DEBUG: Crawled (200) <GET https://proceedings.mlr.press/v143/faryna21a/faryna21a.pdf> (referer: https://proceedings.mlr.press/v143/)\n",
      "2022-10-30 23:17:55 [MLR_Press] INFO: Saving PDF Tailoring automated data augmentation to H&E-stained histopathology.PDF\n",
      "2022-10-30 23:17:56 [scrapy.core.engine] DEBUG: Crawled (200) <GET https://proceedings.mlr.press/v174/zhang22a/zhang22a.pdf> (referer: https://proceedings.mlr.press/v174/)\n",
      "2022-10-30 23:17:56 [MLR_Press] INFO: Saving PDF Improving the Fairness of Chest X-ray Classifiers.PDF\n",
      "2022-10-30 23:17:56 [scrapy.core.engine] DEBUG: Crawled (200) <GET https://proceedings.mlr.press/v174/weatherhead22a/weatherhead22a.pdf> (referer: https://proceedings.mlr.press/v174/)\n",
      "2022-10-30 23:17:57 [MLR_Press] INFO: Saving PDF Learning Unsupervised Representations for ICU Timeseries.PDF\n",
      "2022-10-30 23:17:57 [scrapy.core.engine] DEBUG: Crawled (200) <GET https://proceedings.mlr.press/v174/keramati22a/keramati22a.pdf> (referer: https://proceedings.mlr.press/v174/)\n",
      "2022-10-30 23:17:57 [MLR_Press] INFO: Saving PDF Identification of Subgroups With Similar Benefits in Off-Policy Policy Evaluation.PDF\n",
      "2022-10-30 23:17:57 [scrapy.core.engine] DEBUG: Crawled (200) <GET https://proceedings.mlr.press/v174/kim22a/kim22a.pdf> (referer: https://proceedings.mlr.press/v174/)\n",
      "2022-10-30 23:17:57 [MLR_Press] INFO: Saving PDF Uncertainty-Aware Text-to-Program for Question Answering on Structured Electronic Health Records.PDF\n",
      "2022-10-30 23:17:58 [scrapy.core.engine] DEBUG: Crawled (200) <GET https://proceedings.mlr.press/v174/park22a/park22a.pdf> (referer: https://proceedings.mlr.press/v174/)\n",
      "2022-10-30 23:17:58 [scrapy.core.engine] DEBUG: Crawled (200) <GET https://proceedings.mlr.press/v174/fatemi22a/fatemi22a.pdf> (referer: https://proceedings.mlr.press/v174/)\n",
      "2022-10-30 23:17:58 [MLR_Press] INFO: Saving PDF Graph-Text Multi-Modal Pre-training for Medical Representation Learning.PDF\n",
      "2022-10-30 23:17:58 [MLR_Press] INFO: Saving PDF Semi-Markov Offline Reinforcement Learning for Healthcare.PDF\n",
      "2022-10-30 23:17:58 [scrapy.core.engine] DEBUG: Crawled (200) <GET https://proceedings.mlr.press/v174/kinyanjui22a/kinyanjui22a.pdf> (referer: https://proceedings.mlr.press/v174/)\n",
      "2022-10-30 23:17:58 [MLR_Press] INFO: Saving PDF ADCB: An Alzheimer’s disease simulator for benchmarking observational estimators of causal effects.PDF\n",
      "2022-10-30 23:17:58 [scrapy.core.downloader.handlers.http11] WARNING: Received more bytes than download warn size (33554432) in request <GET https://proceedings.mlr.press/v143/liu21a/liu21a.pdf>.\n",
      "2022-10-30 23:17:58 [scrapy.core.engine] DEBUG: Crawled (200) <GET https://proceedings.mlr.press/v174/tonekaboni22a/tonekaboni22a.pdf> (referer: https://proceedings.mlr.press/v174/)\n",
      "2022-10-30 23:17:59 [scrapy.core.engine] DEBUG: Crawled (200) <GET https://proceedings.mlr.press/v174/jeanselme22a/jeanselme22a.pdf> (referer: https://proceedings.mlr.press/v174/)\n",
      "2022-10-30 23:17:59 [scrapy.core.engine] DEBUG: Crawled (200) <GET https://proceedings.mlr.press/v174/huang22a/huang22a.pdf> (referer: https://proceedings.mlr.press/v174/)\n",
      "2022-10-30 23:17:59 [MLR_Press] INFO: Saving PDF How to validate Machine Learning Models Prior to Deployment: Silent trial protocol for evaluation of real-time models at ICU.PDF\n",
      "2022-10-30 23:17:59 [MLR_Press] INFO: Saving PDF Neural Survival Clustering: Non-parametric mixture of neural networks for survival clustering.PDF\n",
      "2022-10-30 23:17:59 [scrapy.core.engine] DEBUG: Crawled (200) <GET https://proceedings.mlr.press/v174/hur22a/hur22a.pdf> (referer: https://proceedings.mlr.press/v174/)\n",
      "2022-10-30 23:17:59 [MLR_Press] INFO: Saving PDF Enriching Unsupervised User Embedding via Medical Concepts.PDF\n",
      "2022-10-30 23:17:59 [MLR_Press] INFO: Saving PDF Unifying Heterogeneous Electronic Health Records Systems via Text-Based Code Embedding.PDF\n",
      "2022-10-30 23:17:59 [scrapy.core.engine] DEBUG: Crawled (200) <GET https://proceedings.mlr.press/v174/flores22a/flores22a.pdf> (referer: https://proceedings.mlr.press/v174/)\n",
      "2022-10-30 23:17:59 [MLR_Press] INFO: Saving PDF Conference on Health, Inference, and Learning (CHIL) 2022.PDF\n",
      "2022-10-30 23:17:59 [scrapy.core.engine] DEBUG: Crawled (200) <GET https://proceedings.mlr.press/v174/el-hay22a/el-hay22a.pdf> (referer: https://proceedings.mlr.press/v174/)\n",
      "2022-10-30 23:17:59 [MLR_Press] INFO: Saving PDF Estimating Model Performance on External Samples from Their Limited Statistical Characteristics.PDF\n",
      "2022-10-30 23:17:59 [scrapy.core.engine] DEBUG: Crawled (200) <GET https://proceedings.mlr.press/v174/chu22a/chu22a.pdf> (referer: https://proceedings.mlr.press/v174/)\n",
      "2022-10-30 23:17:59 [MLR_Press] INFO: Saving PDF Multi-Task Adversarial Learning for Treatment Effect Estimation in Basket Trials.PDF\n",
      "2022-10-30 23:18:00 [scrapy.core.engine] DEBUG: Crawled (200) <GET https://proceedings.mlr.press/v174/lee22a/lee22a.pdf> (referer: https://proceedings.mlr.press/v174/)\n",
      "2022-10-30 23:18:00 [MLR_Press] INFO: Saving PDF Real-Time Seizure Detection using EEG: A Comprehensive Comparison of Recent Approaches under a Realistic Setting.PDF\n",
      "2022-10-30 23:18:00 [scrapy.core.engine] DEBUG: Crawled (200) <GET https://proceedings.mlr.press/v158/pang21a/pang21a.pdf> (referer: https://proceedings.mlr.press/v158/)\n",
      "2022-10-30 23:18:00 [MLR_Press] INFO: Saving PDF CEHR-BERT: Incorporating temporal information from structured EHR data to improve prediction tasks.PDF\n",
      "2022-10-30 23:18:01 [scrapy.core.engine] DEBUG: Crawled (200) <GET https://proceedings.mlr.press/v174/pfisterer22a/pfisterer22a.pdf> (referer: https://proceedings.mlr.press/v174/)\n",
      "2022-10-30 23:18:01 [scrapy.core.engine] DEBUG: Crawled (200) <GET https://proceedings.mlr.press/v158/endo21a/endo21a.pdf> (referer: https://proceedings.mlr.press/v158/)\n",
      "2022-10-30 23:18:01 [MLR_Press] INFO: Saving PDF Evaluating Domain Generalization for Survival Analysis in Clinical Studies.PDF\n",
      "2022-10-30 23:18:01 [MLR_Press] INFO: Saving PDF Retrieval-Based Chest X-Ray Report Generation Using a Pre-trained Contrastive Language-Image Model.PDF\n",
      "2022-10-30 23:18:01 [scrapy.core.engine] DEBUG: Crawled (200) <GET https://proceedings.mlr.press/v158/li21a/li21a.pdf> (referer: https://proceedings.mlr.press/v158/)\n",
      "2022-10-30 23:18:01 [MLR_Press] INFO: Saving PDF G-Net: a Recurrent Network Approach to G-Computation for Counterfactual Prediction Under a Dynamic Treatment Regime.PDF\n",
      "2022-10-30 23:18:02 [scrapy.core.engine] DEBUG: Crawled (200) <GET https://proceedings.mlr.press/v158/jaiswal21a/jaiswal21a.pdf> (referer: https://proceedings.mlr.press/v158/)\n",
      "2022-10-30 23:18:02 [MLR_Press] INFO: Saving PDF RadBERT-CL: Factually-Aware Contrastive Learning For Radiology Report Classification.PDF\n",
      "2022-10-30 23:18:02 [scrapy.core.engine] DEBUG: Crawled (200) <GET https://proceedings.mlr.press/v158/carr21a/carr21a.pdf> (referer: https://proceedings.mlr.press/v158/)\n",
      "2022-10-30 23:18:02 [MLR_Press] INFO: Saving PDF Longitudinal patient stratification of electronic health records with flexible adjustment for clinical outcomes.PDF\n",
      "2022-10-30 23:18:03 [scrapy.core.engine] DEBUG: Crawled (200) <GET https://proceedings.mlr.press/v158/kuzmanovic21a/kuzmanovic21a.pdf> (referer: https://proceedings.mlr.press/v158/)\n",
      "2022-10-30 23:18:03 [scrapy.core.engine] DEBUG: Crawled (200) <GET https://proceedings.mlr.press/v174/killian22a/killian22a.pdf> (referer: https://proceedings.mlr.press/v174/)\n",
      "2022-10-30 23:18:03 [MLR_Press] INFO: Saving PDF Deconfounding Temporal Autoencoder: Estimating Treatment Effects over Time Using Noisy Proxies.PDF\n",
      "2022-10-30 23:18:03 [MLR_Press] INFO: Saving PDF Counterfactually Guided Policy Transfer in Clinical Settings.PDF\n",
      "2022-10-30 23:18:03 [scrapy.extensions.logstats] INFO: Crawled 108 pages (at 108 pages/min), scraped 0 items (at 0 items/min)\n",
      "2022-10-30 23:18:03 [scrapy.core.engine] DEBUG: Crawled (200) <GET https://proceedings.mlr.press/v158/gopal21a/gopal21a.pdf> (referer: https://proceedings.mlr.press/v158/)\n",
      "2022-10-30 23:18:03 [MLR_Press] INFO: Saving PDF 3KG: Contrastive Learning of 12-Lead Electrocardiograms using Physiologically-Inspired Augmentations.PDF\n",
      "2022-10-30 23:18:04 [scrapy.core.engine] DEBUG: Crawled (200) <GET https://proceedings.mlr.press/v158/wagh21a/wagh21a.pdf> (referer: https://proceedings.mlr.press/v158/)\n",
      "2022-10-30 23:18:04 [MLR_Press] INFO: Saving PDF Domain-guided Self-supervision of EEG Data Improves Downstream Classification Performance and Generalizability.PDF\n",
      "2022-10-30 23:18:05 [scrapy.core.engine] DEBUG: Crawled (200) <GET https://proceedings.mlr.press/v158/qendro21a/qendro21a.pdf> (referer: https://proceedings.mlr.press/v158/)\n",
      "2022-10-30 23:18:05 [MLR_Press] INFO: Saving PDF Early Exit Ensembles for Uncertainty Quantification.PDF\n",
      "2022-10-30 23:18:05 [scrapy.core.engine] DEBUG: Crawled (200) <GET https://proceedings.mlr.press/v158/ho21a/ho21a.pdf> (referer: https://proceedings.mlr.press/v158/)\n",
      "2022-10-30 23:18:05 [MLR_Press] INFO: Saving PDF Prognosticating Colorectal Cancer Recurrence using an Interpretable Deep Multi-view Network.PDF\n",
      "2022-10-30 23:18:06 [scrapy.core.engine] DEBUG: Crawled (200) <GET https://proceedings.mlr.press/v158/valmianski21a/valmianski21a.pdf> (referer: https://proceedings.mlr.press/v158/)\n",
      "2022-10-30 23:18:06 [MLR_Press] INFO: Saving PDF SmartTriage: A system for personalized patient data capture, documentation generation, and decision support.PDF\n",
      "2022-10-30 23:18:06 [scrapy.core.engine] DEBUG: Crawled (200) <GET https://proceedings.mlr.press/v174/zhu22a/zhu22a.pdf> (referer: https://proceedings.mlr.press/v174/)\n",
      "2022-10-30 23:18:07 [MLR_Press] INFO: Saving PDF PhysioMTL: Personalizing Physiological Patterns using Optimal Transport Multi-Task Regression.PDF\n",
      "2022-10-30 23:18:07 [scrapy.core.engine] DEBUG: Crawled (200) <GET https://proceedings.mlr.press/v158/wang21a/wang21a.pdf> (referer: https://proceedings.mlr.press/v158/)\n",
      "2022-10-30 23:18:07 [MLR_Press] INFO: Saving PDF Image Classification with Consistent Supporting Evidence.PDF\n",
      "2022-10-30 23:18:07 [scrapy.core.engine] DEBUG: Crawled (200) <GET https://proceedings.mlr.press/v158/truong21a/truong21a.pdf> (referer: https://proceedings.mlr.press/v158/)\n",
      "2022-10-30 23:18:07 [MLR_Press] INFO: Saving PDF How Transferable are Self-supervised Features in Medical Image Classification Tasks?.PDF\n",
      "2022-10-30 23:18:07 [scrapy.core.engine] DEBUG: Crawled (200) <GET https://proceedings.mlr.press/v158/dietrich21a/dietrich21a.pdf> (referer: https://proceedings.mlr.press/v158/)\n",
      "2022-10-30 23:18:07 [scrapy.core.engine] DEBUG: Crawled (200) <GET https://proceedings.mlr.press/v158/bae21a/bae21a.pdf> (referer: https://proceedings.mlr.press/v158/)\n",
      "2022-10-30 23:18:07 [MLR_Press] INFO: Saving PDF Towards Explainable End-to-End Prostate Cancer Relapse Prediction from H&E Images Combining Self-Attention Multiple Instance Learning with a Recurrent Neural Network.PDF\n",
      "2022-10-30 23:18:07 [MLR_Press] INFO: Saving PDF Question Answering for Complex Electronic Health Records Database using Unified Encoder-Decoder Architecture.PDF\n",
      "2022-10-30 23:18:08 [scrapy.core.engine] DEBUG: Crawled (200) <GET http://proceedings.mlr.press/v136/kim20a/kim20a.pdf> (referer: None)\n",
      "2022-10-30 23:18:08 [scrapy.core.engine] DEBUG: Crawled (200) <GET https://proceedings.mlr.press/v158/compton21a/compton21a.pdf> (referer: https://proceedings.mlr.press/v158/)\n",
      "2022-10-30 23:18:08 [MLR_Press] INFO: Saving PDF Improved Clinical Abbreviation Expansion via Non-Sense-Based Approaches.PDF\n",
      "2022-10-30 23:18:08 [MLR_Press] INFO: Saving PDF MEDCOD: A Medically-Accurate, Emotive, Diverse, and Controllable Dialog System.PDF\n",
      "2022-10-30 23:18:09 [scrapy.core.engine] DEBUG: Crawled (200) <GET http://proceedings.mlr.press/v136/fang20a/fang20a.pdf> (referer: None)\n",
      "2022-10-30 23:18:09 [MLR_Press] INFO: Saving PDF Parkinsonian Chinese Speech Analysis towards Automatic Classification of Parkinson's Disease.PDF\n",
      "2022-10-30 23:18:09 [scrapy.core.engine] DEBUG: Crawled (200) <GET http://proceedings.mlr.press/v136/enguehard20a/enguehard20a.pdf> (referer: None)\n",
      "2022-10-30 23:18:09 [MLR_Press] INFO: Saving PDF Neural Temporal Point Processes For Modelling Electronic Health Records.PDF\n",
      "2022-10-30 23:18:10 [scrapy.core.engine] DEBUG: Crawled (200) <GET http://proceedings.mlr.press/v136/dai20a/dai20a.pdf> (referer: None)\n",
      "2022-10-30 23:18:10 [MLR_Press] INFO: Saving PDF Quantifying Common Support between Multiple Treatment Groups Using a Contrastive-VAE.PDF\n",
      "2022-10-30 23:18:10 [scrapy.core.engine] DEBUG: Crawled (200) <GET http://proceedings.mlr.press/v136/josephs20a/josephs20a.pdf> (referer: None)\n",
      "2022-10-30 23:18:11 [scrapy.core.engine] DEBUG: Crawled (200) <GET http://proceedings.mlr.press/v136/sarkar20a/sarkar20a.pdf> (referer: None)\n",
      "2022-10-30 23:18:11 [MLR_Press] INFO: Saving PDF sEMG Gesture Recognition with a Simple Model of Attention.PDF\n",
      "2022-10-30 23:18:11 [scrapy.core.engine] DEBUG: Crawled (200) <GET http://proceedings.mlr.press/v136/adams20a/adams20a.pdf> (referer: None)\n",
      "2022-10-30 23:18:11 [MLR_Press] INFO: Saving PDF Machine Learning for Health (ML4H) 2020: Advancing Healthcare for All.PDF\n",
      "2022-10-30 23:18:11 [MLR_Press] INFO: Saving PDF Zero-Shot Clinical Acronym Expansion via Latent Meaning Cells.PDF\n",
      "2022-10-30 23:18:11 [scrapy.core.engine] DEBUG: Crawled (200) <GET https://proceedings.mlr.press/v158/roy21a/roy21a.pdf> (referer: https://proceedings.mlr.press/v158/)\n",
      "2022-10-30 23:18:11 [MLR_Press] INFO: Saving PDF Machine Learning for Health (ML4H) 2021.PDF\n",
      "2022-10-30 23:18:12 [scrapy.core.engine] DEBUG: Crawled (200) <GET http://proceedings.mlr.press/v136/donnat20a/donnat20a.pdf> (referer: None)\n",
      "2022-10-30 23:18:12 [MLR_Press] INFO: Saving PDF A Bayesian Hierarchical Network for Combining Heterogeneous Data Sources in Medical Diagnoses.PDF\n",
      "2022-10-30 23:18:12 [scrapy.core.engine] DEBUG: Crawled (200) <GET https://proceedings.mlr.press/v143/liu21a/liu21a.pdf> (referer: https://proceedings.mlr.press/v143/)\n",
      "2022-10-30 23:18:12 [MLR_Press] INFO: Saving PDF Improved model-based deep learning for quantitative susceptibility mapping.PDF\n",
      "2022-10-30 23:18:13 [scrapy.core.engine] DEBUG: Crawled (200) <GET https://proceedings.mlr.press/v158/rubin21a/rubin21a.pdf> (referer: https://proceedings.mlr.press/v158/)\n",
      "2022-10-30 23:18:13 [MLR_Press] INFO: Saving PDF Attention Distillation for Detection Transformers: Application to Real-Time Video Object Detection in Ultrasound.PDF\n",
      "2022-10-30 23:18:14 [scrapy.core.engine] DEBUG: Crawled (200) <GET https://proceedings.mlr.press/v158/yin21a/yin21a.pdf> (referer: https://proceedings.mlr.press/v158/)\n",
      "2022-10-30 23:18:15 [MLR_Press] INFO: Saving PDF End-to-End Sequential Sampling and Reconstruction for MRI.PDF\n",
      "2022-10-30 23:18:20 [scrapy.core.engine] DEBUG: Crawled (200) <GET http://proceedings.mlr.press/v136/killian20a/killian20a.pdf> (referer: None)\n",
      "2022-10-30 23:18:20 [MLR_Press] INFO: Saving PDF An Empirical Study of Representation Learning for Reinforcement Learning in Healthcare.PDF\n",
      "2022-10-30 23:18:20 [scrapy.core.engine] INFO: Closing spider (finished)\n",
      "2022-10-30 23:18:20 [scrapy.statscollectors] INFO: Dumping Scrapy stats:\n",
      "{'downloader/request_bytes': 38008,\n",
      " 'downloader/request_count': 132,\n",
      " 'downloader/request_method_count/GET': 132,\n",
      " 'downloader/response_bytes': 569081381,\n",
      " 'downloader/response_count': 132,\n",
      " 'downloader/response_status_count/200': 132,\n",
      " 'elapsed_time_seconds': 76.500918,\n",
      " 'finish_reason': 'finished',\n",
      " 'finish_time': datetime.datetime(2022, 10, 30, 22, 18, 20, 260329),\n",
      " 'httpcompression/response_bytes': 141011,\n",
      " 'httpcompression/response_count': 4,\n",
      " 'log_count/DEBUG': 133,\n",
      " 'log_count/INFO': 139,\n",
      " 'log_count/WARNING': 2,\n",
      " 'memusage/max': 196825088,\n",
      " 'memusage/startup': 120070144,\n",
      " 'request_depth_max': 1,\n",
      " 'response_received_count': 132,\n",
      " 'scheduler/dequeued': 132,\n",
      " 'scheduler/dequeued/memory': 132,\n",
      " 'scheduler/enqueued': 132,\n",
      " 'scheduler/enqueued/memory': 132,\n",
      " 'start_time': datetime.datetime(2022, 10, 30, 22, 17, 3, 759411)}\n",
      "2022-10-30 23:18:20 [scrapy.core.engine] INFO: Spider closed (finished)\n"
     ]
    }
   ],
   "source": [
    "# scrapy code goes here\n",
    "from scrapy.crawler import CrawlerProcess\n",
    "from scrapy.http import Request\n",
    "\n",
    "class MLRPRessCrawler(scrapy.Spider):\n",
    "    \"\"\"\n",
    "    Spider for crawling PDFs from `proceedings.mlr.press`\n",
    "    \"\"\"\n",
    "    name = \"MLR_Press\"\n",
    "\n",
    "    def start_requests(self):\n",
    "        urls = pdf_urls\n",
    "        for url in urls:\n",
    "            yield scrapy.Request(\n",
    "                url=url, \n",
    "                meta={\n",
    "                    \"venue\" : venue_labels[url]\n",
    "                },\n",
    "                callback=self.parse\n",
    "            )\n",
    "\n",
    "    def parse(self, response):\n",
    "        for article in response.xpath('/html/body/main/div/div[*]'):\n",
    "            try:\n",
    "                yield Request(\n",
    "                    url=article.xpath('p[3]/a[2]/@href').get(),\n",
    "                    meta={\n",
    "                        \"title\": article.xpath('p[1]/text()').get(),\n",
    "                        \"venue\" : response.request.meta['venue']\n",
    "                        },\n",
    "                    callback=self.save_pdf\n",
    "                )\n",
    "            except Exception as e:\n",
    "                print(e)\n",
    "\n",
    "    def save_pdf(self, response):\n",
    "        try:\n",
    "            title = response.meta['title']+\".PDF\"\n",
    "            venue = response.meta['venue']\n",
    "            self.logger.info('Saving PDF %s', title)\n",
    "            pdf_file = os.path.join('data','pdfs',venue+special_separator+title)\n",
    "            with open(pdf_file, 'wb') as f:\n",
    "                f.write(response.body)\n",
    "            pdfs.append(pdf_file)\n",
    "            titles.append(response.meta['title'])\n",
    "            paper_venues.append(response.meta['venue'])\n",
    "        except Exception as e:\n",
    "            print(e)\n",
    "            \n",
    "crawler = CrawlerProcess({})\n",
    "crawler.crawl(MLRPRessCrawler)\n",
    "crawler.start()\n",
    "# DOIs are unavailable for now\n",
    "# pdf-files"
   ]
  },
  {
   "cell_type": "markdown",
   "id": "c6802edc-afd2-4b18-b543-d8d9f8def3fd",
   "metadata": {},
   "source": [
    "## 4. PDF-Reader"
   ]
  },
  {
   "cell_type": "markdown",
   "id": "62ca3186-18ff-474f-af69-e5ba5270e631",
   "metadata": {},
   "source": [
    "Make directory for texts if it does not exist"
   ]
  },
  {
   "cell_type": "code",
   "execution_count": 11,
   "id": "e5ab8186-7112-4154-ba02-4280951788a0",
   "metadata": {},
   "outputs": [
    {
     "name": "stdout",
     "output_type": "stream",
     "text": [
      "mkdir: data/texts: File exists\n"
     ]
    }
   ],
   "source": [
    "!mkdir data/texts"
   ]
  },
  {
   "cell_type": "code",
   "execution_count": 12,
   "id": "ad4be30a-ce85-4aba-b0b6-81bc20cb1430",
   "metadata": {},
   "outputs": [],
   "source": [
    "# !ls data/pdfs"
   ]
  },
  {
   "cell_type": "code",
   "execution_count": 13,
   "id": "b3b42410-7231-46d3-9eff-e38cb66f016a",
   "metadata": {},
   "outputs": [
    {
     "name": "stdout",
     "output_type": "stream",
     "text": [
      "No /Root object! - Is this really a PDF?\n"
     ]
    }
   ],
   "source": [
    "from pdfminer.high_level import extract_text\n",
    "\n",
    "# i=0\n",
    "for directory, subdirlist, filelist in os.walk('data/pdfs/'):\n",
    "    # print(directory)\n",
    "    for pdf in filelist:\n",
    "        title = pdf[:-4]\n",
    "        text_file = os.path.join('data','texts',title+'.txt')\n",
    "        try:\n",
    "            with open(text_file, 'w') as f:\n",
    "                text_contents = extract_text(os.path.join(directory,pdf))\n",
    "                f.write(text_contents)\n",
    "                texts.append(text_file)\n",
    "        except Exception as e:\n",
    "            print(e)\n",
    "            # print((i,text_file))\n",
    "            # i+=1\n",
    "# SEE ALSO these functions more layout-gnostic processing\n",
    "# from pdfminer.high_level import extract_text_to_fp\n",
    "# from pdfminer.layout import LAParams"
   ]
  },
  {
   "cell_type": "code",
   "execution_count": null,
   "id": "d61ee078-bb78-4f33-a09c-da71f34d95a8",
   "metadata": {},
   "outputs": [],
   "source": []
  },
  {
   "cell_type": "markdown",
   "id": "64950872-9e97-423e-8bc5-3ffc345654f6",
   "metadata": {},
   "source": [
    "## 5. Saving Results"
   ]
  },
  {
   "cell_type": "markdown",
   "id": "9b5376fa-2e02-424e-b46d-20b1eeb32e02",
   "metadata": {},
   "source": [
    "Combine venues (constant), titles , mention_matches and keyword_matches into final output."
   ]
  },
  {
   "cell_type": "code",
   "execution_count": 14,
   "id": "df0182f5-4fb3-4c67-9f10-0a56ac8bfb17",
   "metadata": {},
   "outputs": [],
   "source": [
    "merged_dict = {}"
   ]
  },
  {
   "cell_type": "code",
   "execution_count": 15,
   "id": "e722e0c6-11a6-4e46-b263-430e8ff59b09",
   "metadata": {},
   "outputs": [],
   "source": [
    "\n",
    "#UNUSED\n",
    "#merged_dict['doi']=n/a\n",
    "merged_dict['Venue']=paper_venues\n",
    "merged_dict['Title']=titles\n",
    "\n",
    "# TODO EXTRACT VENUE FROM TITLES using special_separator\n",
    "\n",
    "# [titles.split(special_separator) for title in titles]\n"
   ]
  },
  {
   "cell_type": "code",
   "execution_count": 16,
   "id": "e1336421-2573-4239-9d8d-73308acb8bf4",
   "metadata": {},
   "outputs": [],
   "source": [
    "match_dataset = pd.DataFrame(\n",
    "    merged_dict\n",
    ")"
   ]
  },
  {
   "cell_type": "code",
   "execution_count": 17,
   "id": "198e8ac3-0f58-4df9-93ec-6a5adfeb8216",
   "metadata": {},
   "outputs": [],
   "source": [
    "# match_dataset= match_dataset.assign(Venue=venues[0])\n",
    "# match_dataset= match_dataset.assign(DOI='n/a')"
   ]
  },
  {
   "cell_type": "code",
   "execution_count": 18,
   "id": "8152e067-5384-46eb-a56a-dbd64aa0f8f1",
   "metadata": {},
   "outputs": [
    {
     "data": {
      "text/html": [
       "<div>\n",
       "<style scoped>\n",
       "    .dataframe tbody tr th:only-of-type {\n",
       "        vertical-align: middle;\n",
       "    }\n",
       "\n",
       "    .dataframe tbody tr th {\n",
       "        vertical-align: top;\n",
       "    }\n",
       "\n",
       "    .dataframe thead th {\n",
       "        text-align: right;\n",
       "    }\n",
       "</style>\n",
       "<table border=\"1\" class=\"dataframe\">\n",
       "  <thead>\n",
       "    <tr style=\"text-align: right;\">\n",
       "      <th></th>\n",
       "      <th>Venue</th>\n",
       "      <th>Title</th>\n",
       "    </tr>\n",
       "  </thead>\n",
       "  <tbody>\n",
       "    <tr>\n",
       "      <th>0</th>\n",
       "      <td>ML4H 2020</td>\n",
       "      <td>Interpretable Epilepsy Detection in Routine, I...</td>\n",
       "    </tr>\n",
       "    <tr>\n",
       "      <th>1</th>\n",
       "      <td>ML4H 2020</td>\n",
       "      <td>EEG-GCNN: Augmenting Electroencephalogram-base...</td>\n",
       "    </tr>\n",
       "    <tr>\n",
       "      <th>2</th>\n",
       "      <td>ML4H 2020</td>\n",
       "      <td>Confounding Feature Acquisition for Causal Eff...</td>\n",
       "    </tr>\n",
       "    <tr>\n",
       "      <th>3</th>\n",
       "      <td>ML4H 2020</td>\n",
       "      <td>Addressing the Real-world Class Imbalance Prob...</td>\n",
       "    </tr>\n",
       "    <tr>\n",
       "      <th>4</th>\n",
       "      <td>ML4H 2020</td>\n",
       "      <td>A Neural SIR Model for Global Forecasting</td>\n",
       "    </tr>\n",
       "    <tr>\n",
       "      <th>...</th>\n",
       "      <td>...</td>\n",
       "      <td>...</td>\n",
       "    </tr>\n",
       "    <tr>\n",
       "      <th>123</th>\n",
       "      <td>ML4H 2020</td>\n",
       "      <td>A Bayesian Hierarchical Network for Combining ...</td>\n",
       "    </tr>\n",
       "    <tr>\n",
       "      <th>124</th>\n",
       "      <td>MIDL 2021</td>\n",
       "      <td>Improved model-based deep learning for quantit...</td>\n",
       "    </tr>\n",
       "    <tr>\n",
       "      <th>125</th>\n",
       "      <td>ML4H 2021</td>\n",
       "      <td>Attention Distillation for Detection Transform...</td>\n",
       "    </tr>\n",
       "    <tr>\n",
       "      <th>126</th>\n",
       "      <td>ML4H 2021</td>\n",
       "      <td>End-to-End Sequential Sampling and Reconstruct...</td>\n",
       "    </tr>\n",
       "    <tr>\n",
       "      <th>127</th>\n",
       "      <td>ML4H 2020</td>\n",
       "      <td>An Empirical Study of Representation Learning ...</td>\n",
       "    </tr>\n",
       "  </tbody>\n",
       "</table>\n",
       "<p>128 rows × 2 columns</p>\n",
       "</div>"
      ],
      "text/plain": [
       "         Venue                                              Title\n",
       "0    ML4H 2020  Interpretable Epilepsy Detection in Routine, I...\n",
       "1    ML4H 2020  EEG-GCNN: Augmenting Electroencephalogram-base...\n",
       "2    ML4H 2020  Confounding Feature Acquisition for Causal Eff...\n",
       "3    ML4H 2020  Addressing the Real-world Class Imbalance Prob...\n",
       "4    ML4H 2020          A Neural SIR Model for Global Forecasting\n",
       "..         ...                                                ...\n",
       "123  ML4H 2020  A Bayesian Hierarchical Network for Combining ...\n",
       "124  MIDL 2021  Improved model-based deep learning for quantit...\n",
       "125  ML4H 2021  Attention Distillation for Detection Transform...\n",
       "126  ML4H 2021  End-to-End Sequential Sampling and Reconstruct...\n",
       "127  ML4H 2020  An Empirical Study of Representation Learning ...\n",
       "\n",
       "[128 rows x 2 columns]"
      ]
     },
     "execution_count": 18,
     "metadata": {},
     "output_type": "execute_result"
    }
   ],
   "source": [
    "match_dataset"
   ]
  },
  {
   "cell_type": "code",
   "execution_count": 19,
   "id": "81acd82d-3ef1-4891-8b7c-5782d977e395",
   "metadata": {},
   "outputs": [],
   "source": [
    "match_dataset.to_csv('data/ResearchPapers.csv')"
   ]
  },
  {
   "cell_type": "code",
   "execution_count": 20,
   "id": "7178afa6-f76f-4527-8261-aea607b5c121",
   "metadata": {},
   "outputs": [],
   "source": [
    "#WARNING: Preface.pdf"
   ]
  }
 ],
 "metadata": {
  "kernelspec": {
   "display_name": "Python 3",
   "language": "python",
   "name": "python3"
  },
  "language_info": {
   "codemirror_mode": {
    "name": "ipython",
    "version": 3
   },
   "file_extension": ".py",
   "mimetype": "text/x-python",
   "name": "python",
   "nbconvert_exporter": "python",
   "pygments_lexer": "ipython3",
   "version": "3.10.5"
  }
 },
 "nbformat": 4,
 "nbformat_minor": 5
}
