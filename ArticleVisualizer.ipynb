{
 "cells": [
  {
   "cell_type": "markdown",
   "id": "f3ff45d6-f5c4-44fb-aef7-a9edc0596a90",
   "metadata": {},
   "source": [
    "# PublicDatasets (Analyser)"
   ]
  },
  {
   "cell_type": "markdown",
   "id": "df4b8014-f228-46f3-a745-bfb4e63cbc60",
   "metadata": {},
   "source": [
    "## 1. Re-reading"
   ]
  },
  {
   "cell_type": "code",
   "execution_count": 1,
   "id": "17433dfb-a29b-4374-9112-0ad4afa2224a",
   "metadata": {},
   "outputs": [],
   "source": [
    "special_separator = '___'"
   ]
  },
  {
   "cell_type": "code",
   "execution_count": 2,
   "id": "ba056aa2-a5a2-4c12-923c-814b78cfa6a2",
   "metadata": {},
   "outputs": [],
   "source": [
    "import pandas as pd\n",
    "import seaborn as sns \n",
    "\n",
    "import numpy as np\n",
    "from urllib.parse import urlparse"
   ]
  },
  {
   "cell_type": "code",
   "execution_count": 3,
   "id": "a553a422-2566-4a43-824b-6baaff9027d2",
   "metadata": {},
   "outputs": [],
   "source": [
    "mentions_table = pd.read_csv('data/DatasetMentions_Processed.csv',index_col=0, sep=';')"
   ]
  },
  {
   "cell_type": "code",
   "execution_count": 4,
   "id": "bd1b100a-f80d-4f13-ac61-88717d87a31c",
   "metadata": {},
   "outputs": [
    {
     "data": {
      "text/html": [
       "<div>\n",
       "<style scoped>\n",
       "    .dataframe tbody tr th:only-of-type {\n",
       "        vertical-align: middle;\n",
       "    }\n",
       "\n",
       "    .dataframe tbody tr th {\n",
       "        vertical-align: top;\n",
       "    }\n",
       "\n",
       "    .dataframe thead th {\n",
       "        text-align: right;\n",
       "    }\n",
       "</style>\n",
       "<table border=\"1\" class=\"dataframe\">\n",
       "  <thead>\n",
       "    <tr style=\"text-align: right;\">\n",
       "      <th></th>\n",
       "      <th>Venue</th>\n",
       "      <th>Paper Title</th>\n",
       "      <th>Dataset Identifier</th>\n",
       "      <th>Mention Style</th>\n",
       "      <th>Mention</th>\n",
       "      <th>Access</th>\n",
       "      <th>Notes</th>\n",
       "    </tr>\n",
       "  </thead>\n",
       "  <tbody>\n",
       "    <tr>\n",
       "      <th>0</th>\n",
       "      <td>CHIL 2022</td>\n",
       "      <td>Data Augmentation for Electrocardiograms</td>\n",
       "      <td>MGH Dataset 1</td>\n",
       "      <td>Excluded</td>\n",
       "      <td>NaN</td>\n",
       "      <td>Private</td>\n",
       "      <td>data and code availability we use three\\ndatas...</td>\n",
       "    </tr>\n",
       "    <tr>\n",
       "      <th>1</th>\n",
       "      <td>CHIL 2022</td>\n",
       "      <td>Data Augmentation for Electrocardiograms</td>\n",
       "      <td>MGH Dataset 2</td>\n",
       "      <td>Excluded</td>\n",
       "      <td>NaN</td>\n",
       "      <td>Private</td>\n",
       "      <td>NaN</td>\n",
       "    </tr>\n",
       "    <tr>\n",
       "      <th>2</th>\n",
       "      <td>CHIL 2022</td>\n",
       "      <td>Data Augmentation for Electrocardiograms</td>\n",
       "      <td>PTB-XL</td>\n",
       "      <td>Inline Citation</td>\n",
       "      <td>wagner et al., 2020</td>\n",
       "      <td>Open</td>\n",
       "      <td>NaN</td>\n",
       "    </tr>\n",
       "    <tr>\n",
       "      <th>3</th>\n",
       "      <td>CHIL 2022</td>\n",
       "      <td>Data Augmentation for Electrocardiograms</td>\n",
       "      <td>[Repository] PhysioNet</td>\n",
       "      <td>Inline Citation</td>\n",
       "      <td>goldberger et al., 2000</td>\n",
       "      <td>Open</td>\n",
       "      <td>Repository of dataset has been cited.</td>\n",
       "    </tr>\n",
       "    <tr>\n",
       "      <th>4</th>\n",
       "      <td>CHIL 2022</td>\n",
       "      <td>Data Augmentation for Electrocardiograms</td>\n",
       "      <td>[Paper Dataset]</td>\n",
       "      <td>URL</td>\n",
       "      <td>https://github.com/aniruddhraghu/ecg_aug</td>\n",
       "      <td>Open</td>\n",
       "      <td>[Paper Dataset] indicates a paper’s own datase...</td>\n",
       "    </tr>\n",
       "    <tr>\n",
       "      <th>...</th>\n",
       "      <td>...</td>\n",
       "      <td>...</td>\n",
       "      <td>...</td>\n",
       "      <td>...</td>\n",
       "      <td>...</td>\n",
       "      <td>...</td>\n",
       "      <td>...</td>\n",
       "    </tr>\n",
       "    <tr>\n",
       "      <th>57</th>\n",
       "      <td>CHIL 2022</td>\n",
       "      <td>Identification of Subgroups With Similar Benef...</td>\n",
       "      <td>[Repository] PhysioNet</td>\n",
       "      <td>Inline Citation</td>\n",
       "      <td>goldberger et al., 2000</td>\n",
       "      <td>Open</td>\n",
       "      <td>NaN</td>\n",
       "    </tr>\n",
       "    <tr>\n",
       "      <th>58</th>\n",
       "      <td>CHIL 2022</td>\n",
       "      <td>PhysioMTL: Personalizing Physiological Pattern...</td>\n",
       "      <td>AHMS</td>\n",
       "      <td>Inline Citation</td>\n",
       "      <td>apple, 2019</td>\n",
       "      <td>Private</td>\n",
       "      <td>data and code availability the study in this\\n...</td>\n",
       "    </tr>\n",
       "    <tr>\n",
       "      <th>59</th>\n",
       "      <td>CHIL 2022</td>\n",
       "      <td>PhysioMTL: Personalizing Physiological Pattern...</td>\n",
       "      <td>MMASH</td>\n",
       "      <td>Inline Citation</td>\n",
       "      <td>rossi et al., 2020</td>\n",
       "      <td>Open</td>\n",
       "      <td>NaN</td>\n",
       "    </tr>\n",
       "    <tr>\n",
       "      <th>60</th>\n",
       "      <td>CHIL 2022</td>\n",
       "      <td>PhysioMTL: Personalizing Physiological Pattern...</td>\n",
       "      <td>MMASH</td>\n",
       "      <td>URL</td>\n",
       "      <td>https://github.com/rossialessio/mmash</td>\n",
       "      <td>Open</td>\n",
       "      <td>NaN</td>\n",
       "    </tr>\n",
       "    <tr>\n",
       "      <th>61</th>\n",
       "      <td>CHIL 2022</td>\n",
       "      <td>PhysioMTL: Personalizing Physiological Pattern...</td>\n",
       "      <td>[Repository] PhysioNet</td>\n",
       "      <td>Inline Citation</td>\n",
       "      <td>rossi et al., 2020</td>\n",
       "      <td>Open</td>\n",
       "      <td>Cites Rossi et al.’s paper to inform that said...</td>\n",
       "    </tr>\n",
       "  </tbody>\n",
       "</table>\n",
       "<p>62 rows × 7 columns</p>\n",
       "</div>"
      ],
      "text/plain": [
       "        Venue                                        Paper Title  \\\n",
       "0   CHIL 2022           Data Augmentation for Electrocardiograms   \n",
       "1   CHIL 2022           Data Augmentation for Electrocardiograms   \n",
       "2   CHIL 2022           Data Augmentation for Electrocardiograms   \n",
       "3   CHIL 2022           Data Augmentation for Electrocardiograms   \n",
       "4   CHIL 2022           Data Augmentation for Electrocardiograms   \n",
       "..        ...                                                ...   \n",
       "57  CHIL 2022  Identification of Subgroups With Similar Benef...   \n",
       "58  CHIL 2022  PhysioMTL: Personalizing Physiological Pattern...   \n",
       "59  CHIL 2022  PhysioMTL: Personalizing Physiological Pattern...   \n",
       "60  CHIL 2022  PhysioMTL: Personalizing Physiological Pattern...   \n",
       "61  CHIL 2022  PhysioMTL: Personalizing Physiological Pattern...   \n",
       "\n",
       "        Dataset Identifier    Mention Style  \\\n",
       "0            MGH Dataset 1         Excluded   \n",
       "1            MGH Dataset 2         Excluded   \n",
       "2                   PTB-XL  Inline Citation   \n",
       "3   [Repository] PhysioNet  Inline Citation   \n",
       "4          [Paper Dataset]              URL   \n",
       "..                     ...              ...   \n",
       "57  [Repository] PhysioNet  Inline Citation   \n",
       "58                    AHMS  Inline Citation   \n",
       "59                   MMASH  Inline Citation   \n",
       "60                   MMASH              URL   \n",
       "61  [Repository] PhysioNet  Inline Citation   \n",
       "\n",
       "                                     Mention   Access  \\\n",
       "0                                        NaN  Private   \n",
       "1                                        NaN  Private   \n",
       "2                        wagner et al., 2020     Open   \n",
       "3                    goldberger et al., 2000     Open   \n",
       "4   https://github.com/aniruddhraghu/ecg_aug     Open   \n",
       "..                                       ...      ...   \n",
       "57                   goldberger et al., 2000     Open   \n",
       "58                               apple, 2019  Private   \n",
       "59                        rossi et al., 2020     Open   \n",
       "60     https://github.com/rossialessio/mmash     Open   \n",
       "61                        rossi et al., 2020     Open   \n",
       "\n",
       "                                                Notes  \n",
       "0   data and code availability we use three\\ndatas...  \n",
       "1                                                 NaN  \n",
       "2                                                 NaN  \n",
       "3               Repository of dataset has been cited.  \n",
       "4   [Paper Dataset] indicates a paper’s own datase...  \n",
       "..                                                ...  \n",
       "57                                                NaN  \n",
       "58  data and code availability the study in this\\n...  \n",
       "59                                                NaN  \n",
       "60                                                NaN  \n",
       "61  Cites Rossi et al.’s paper to inform that said...  \n",
       "\n",
       "[62 rows x 7 columns]"
      ]
     },
     "execution_count": 4,
     "metadata": {},
     "output_type": "execute_result"
    }
   ],
   "source": [
    "# mentions_table[mentions_table['Mention Style']=='URL']\n",
    "mentions_table"
   ]
  },
  {
   "cell_type": "code",
   "execution_count": 5,
   "id": "6fe65faa-ad65-407c-9b04-b8f305ff0fdd",
   "metadata": {},
   "outputs": [],
   "source": [
    "# color_palette=[\n",
    "#     \"#F5793A\", \"#A95AA1\", \"#85C0F9\", \"#0F2080\"\n",
    "# ]\n",
    "\n",
    "# sns.set_palette(sns.color_palette(\"Set2\"))"
   ]
  },
  {
   "cell_type": "markdown",
   "id": "57782a6e-1a5c-4326-b6ce-5f76e80e6e8a",
   "metadata": {},
   "source": [
    "## 2. URL origin "
   ]
  },
  {
   "cell_type": "code",
   "execution_count": 6,
   "id": "0f127c9c-82fc-4a44-8418-30c50d23f89b",
   "metadata": {},
   "outputs": [
    {
     "data": {
      "text/html": [
       "<div>\n",
       "<style scoped>\n",
       "    .dataframe tbody tr th:only-of-type {\n",
       "        vertical-align: middle;\n",
       "    }\n",
       "\n",
       "    .dataframe tbody tr th {\n",
       "        vertical-align: top;\n",
       "    }\n",
       "\n",
       "    .dataframe thead th {\n",
       "        text-align: right;\n",
       "    }\n",
       "</style>\n",
       "<table border=\"1\" class=\"dataframe\">\n",
       "  <thead>\n",
       "    <tr style=\"text-align: right;\">\n",
       "      <th></th>\n",
       "      <th>Venue</th>\n",
       "      <th>Paper Title</th>\n",
       "      <th>Dataset Identifier</th>\n",
       "      <th>Mention Style</th>\n",
       "      <th>Mention</th>\n",
       "      <th>Access</th>\n",
       "      <th>Notes</th>\n",
       "      <th>Origin</th>\n",
       "    </tr>\n",
       "  </thead>\n",
       "  <tbody>\n",
       "    <tr>\n",
       "      <th>0</th>\n",
       "      <td>CHIL 2022</td>\n",
       "      <td>Data Augmentation for Electrocardiograms</td>\n",
       "      <td>MGH Dataset 1</td>\n",
       "      <td>Excluded</td>\n",
       "      <td>NaN</td>\n",
       "      <td>Private</td>\n",
       "      <td>data and code availability we use three\\ndatas...</td>\n",
       "      <td></td>\n",
       "    </tr>\n",
       "    <tr>\n",
       "      <th>1</th>\n",
       "      <td>CHIL 2022</td>\n",
       "      <td>Data Augmentation for Electrocardiograms</td>\n",
       "      <td>MGH Dataset 2</td>\n",
       "      <td>Excluded</td>\n",
       "      <td>NaN</td>\n",
       "      <td>Private</td>\n",
       "      <td>NaN</td>\n",
       "      <td></td>\n",
       "    </tr>\n",
       "    <tr>\n",
       "      <th>2</th>\n",
       "      <td>CHIL 2022</td>\n",
       "      <td>Data Augmentation for Electrocardiograms</td>\n",
       "      <td>PTB-XL</td>\n",
       "      <td>Inline Citation</td>\n",
       "      <td>wagner et al., 2020</td>\n",
       "      <td>Open</td>\n",
       "      <td>NaN</td>\n",
       "      <td></td>\n",
       "    </tr>\n",
       "    <tr>\n",
       "      <th>3</th>\n",
       "      <td>CHIL 2022</td>\n",
       "      <td>Data Augmentation for Electrocardiograms</td>\n",
       "      <td>[Repository] PhysioNet</td>\n",
       "      <td>Inline Citation</td>\n",
       "      <td>goldberger et al., 2000</td>\n",
       "      <td>Open</td>\n",
       "      <td>Repository of dataset has been cited.</td>\n",
       "      <td></td>\n",
       "    </tr>\n",
       "    <tr>\n",
       "      <th>4</th>\n",
       "      <td>CHIL 2022</td>\n",
       "      <td>Data Augmentation for Electrocardiograms</td>\n",
       "      <td>[Paper Dataset]</td>\n",
       "      <td>URL</td>\n",
       "      <td>https://github.com/aniruddhraghu/ecg_aug</td>\n",
       "      <td>Open</td>\n",
       "      <td>[Paper Dataset] indicates a paper’s own datase...</td>\n",
       "      <td></td>\n",
       "    </tr>\n",
       "  </tbody>\n",
       "</table>\n",
       "</div>"
      ],
      "text/plain": [
       "       Venue                               Paper Title  \\\n",
       "0  CHIL 2022  Data Augmentation for Electrocardiograms   \n",
       "1  CHIL 2022  Data Augmentation for Electrocardiograms   \n",
       "2  CHIL 2022  Data Augmentation for Electrocardiograms   \n",
       "3  CHIL 2022  Data Augmentation for Electrocardiograms   \n",
       "4  CHIL 2022  Data Augmentation for Electrocardiograms   \n",
       "\n",
       "       Dataset Identifier    Mention Style  \\\n",
       "0           MGH Dataset 1         Excluded   \n",
       "1           MGH Dataset 2         Excluded   \n",
       "2                  PTB-XL  Inline Citation   \n",
       "3  [Repository] PhysioNet  Inline Citation   \n",
       "4         [Paper Dataset]              URL   \n",
       "\n",
       "                                    Mention   Access  \\\n",
       "0                                       NaN  Private   \n",
       "1                                       NaN  Private   \n",
       "2                       wagner et al., 2020     Open   \n",
       "3                   goldberger et al., 2000     Open   \n",
       "4  https://github.com/aniruddhraghu/ecg_aug     Open   \n",
       "\n",
       "                                               Notes Origin  \n",
       "0  data and code availability we use three\\ndatas...         \n",
       "1                                                NaN         \n",
       "2                                                NaN         \n",
       "3              Repository of dataset has been cited.         \n",
       "4  [Paper Dataset] indicates a paper’s own datase...         "
      ]
     },
     "execution_count": 6,
     "metadata": {},
     "output_type": "execute_result"
    }
   ],
   "source": [
    "origins = [ urlparse(x).netloc if (style == 'URL' or style=='Footnote') and id!='[Paper Dataset]' else \"\" for x, style, id in zip(mentions_table['Mention'].tolist(), mentions_table['Mention Style'].tolist(), mentions_table['Dataset Identifier'].tolist() )]\n",
    "   \n",
    "\n",
    "mentions_table['Origin']=origins\n",
    "#[mentions_table['Mention Style']=='URL']\n",
    "\n",
    "# urlparse('http://www.example.test/foo/bar').netloc\n",
    "mentions_table.head()"
   ]
  },
  {
   "cell_type": "code",
   "execution_count": 7,
   "id": "b2b6b460-f513-4e4c-8234-aeb2e74f9ef4",
   "metadata": {},
   "outputs": [
    {
     "data": {
      "text/plain": [
       "[Text(0.5, 1.0, 'Dataset Hosts (inline and footnote URLs)')]"
      ]
     },
     "execution_count": 7,
     "metadata": {},
     "output_type": "execute_result"
    },
    {
     "data": {
      "image/png": "[encoded data removed]",
      "text/plain": [
       "<Figure size 800x600 with 1 Axes>"
      ]
     },
     "metadata": {},
     "output_type": "display_data"
    }
   ],
   "source": [
    "sns.set(rc={\"figure.figsize\":(8, 6)}, palette=\"Set2\")\n",
    "target = mentions_table[np.logical_and(\n",
    "    np.logical_or(mentions_table['Mention Style']=='URL',mentions_table['Mention Style']=='Footnote'),\n",
    "    mentions_table['Dataset Identifier']!='[Paper Dataset]')]\n",
    "# target\n",
    "sns.histplot(data=target, y=\"Origin\", multiple=\"stack\").set(title='Dataset Hosts (inline and footnote URLs)')"
   ]
  },
  {
   "cell_type": "markdown",
   "id": "7884f409-a86d-4fed-9851-adc28f9f86a4",
   "metadata": {},
   "source": [
    "## 3. Check for combined"
   ]
  },
  {
   "cell_type": "code",
   "execution_count": 8,
   "id": "7fe17d7b-78eb-493d-82a3-39f6cdb31c5a",
   "metadata": {
    "tags": []
   },
   "outputs": [
    {
     "ename": "NameError",
     "evalue": "name 'selection_table' is not defined",
     "output_type": "error",
     "traceback": [
      "\u001b[0;31m---------------------------------------------------------------------------\u001b[0m",
      "\u001b[0;31mNameError\u001b[0m                                 Traceback (most recent call last)",
      "Cell \u001b[0;32mIn [8], line 10\u001b[0m\n\u001b[1;32m      1\u001b[0m \u001b[38;5;66;03m# # mentions_table['Origin'] \u001b[39;00m\n\u001b[1;32m      2\u001b[0m \u001b[38;5;66;03m# # mentions_table['Mention Style']\u001b[39;00m\n\u001b[1;32m      3\u001b[0m \n\u001b[0;32m   (...)\u001b[0m\n\u001b[1;32m      7\u001b[0m \u001b[38;5;66;03m# selection_table['Dataset Identifier'].tolist()\u001b[39;00m\n\u001b[1;32m      8\u001b[0m \u001b[38;5;66;03m# selection_table['Paper Title'].tolist()\u001b[39;00m\n\u001b[0;32m---> 10\u001b[0m selection_table\u001b[38;5;241m.\u001b[39mgroupby([\u001b[38;5;124m'\u001b[39m\u001b[38;5;124mPaper Title\u001b[39m\u001b[38;5;124m'\u001b[39m,\u001b[38;5;124m'\u001b[39m\u001b[38;5;124mDataset Identifier\u001b[39m\u001b[38;5;124m'\u001b[39m,\u001b[38;5;124m'\u001b[39m\u001b[38;5;124mMention Style\u001b[39m\u001b[38;5;124m'\u001b[39m])\u001b[38;5;241m.\u001b[39mcount()\n",
      "\u001b[0;31mNameError\u001b[0m: name 'selection_table' is not defined"
     ]
    }
   ],
   "source": [
    "# # mentions_table['Origin'] \n",
    "# # mentions_table['Mention Style']\n",
    "\n",
    "\n",
    "\n",
    "# # selection_table['Paper Title']\n",
    "# selection_table['Dataset Identifier'].tolist()\n",
    "# selection_table['Paper Title'].tolist()\n",
    "\n",
    "selection_table.groupby(['Paper Title','Dataset Identifier','Mention Style']).count()"
   ]
  },
  {
   "cell_type": "code",
   "execution_count": null,
   "id": "9b15ddb0-3a6b-4103-ada7-bfcff33a61ac",
   "metadata": {},
   "outputs": [],
   "source": [
    "selection_table = mentions_table.copy()\n",
    "# for row in selection_table.iterrows():\n",
    "#     print(row)\n",
    "selection_table = selection_table[selection_table['Dataset Identifier']!=\"[Paper Dataset]\"]\n",
    "sns.set(rc={\"figure.figsize\":(8, 8)})\n",
    "d = pd.crosstab(selection_table['Dataset Identifier'],selection_table['Mention Style'] )\n",
    "d = d.reindex(columns= ['Inline Citation','Footnote','URL','Excluded'])\n",
    "sns.heatmap(d, annot=True, fmt=\"d\", linewidths=0.1)\n"
   ]
  },
  {
   "cell_type": "code",
   "execution_count": null,
   "id": "eb6c8ce1-4b1b-40cd-8ad6-8f743c6dfdb3",
   "metadata": {},
   "outputs": [],
   "source": [
    "# sns.set(rc={\"figure.figsize\":(20, 3)})"
   ]
  },
  {
   "cell_type": "markdown",
   "id": "441bcf8c-70d5-49d9-8925-9b99071883cd",
   "metadata": {},
   "source": [
    "## 4. Accesibility"
   ]
  },
  {
   "cell_type": "code",
   "execution_count": null,
   "id": "74fac9e8-24c3-40f9-aae1-49d3ca8195f1",
   "metadata": {},
   "outputs": [],
   "source": [
    "sns.set(rc={\"figure.figsize\":(8, 6)}, palette=\"Set2\")\n",
    "selection_table = mentions_table.copy()\n",
    "# selection_table['Link Access'] = selection_table['Link Access'].fillna('Not Available')\n",
    "sns.histplot(data=selection_table, y=\"Mention Style\", hue=\"Access\", multiple=\"stack\").set(title='Mention Access')"
   ]
  },
  {
   "cell_type": "code",
   "execution_count": null,
   "id": "193398f2-a45a-4b5e-ab4c-8a731a1f552a",
   "metadata": {},
   "outputs": [],
   "source": [
    "sns.set(rc={\"figure.figsize\":(8, 6)}, palette=\"Set2\")\n",
    "selection_table = mentions_table.copy()\n",
    "# selection_table['Link Access'] = selection_table['Link Access'].fillna('Not Available')\n",
    "sns.histplot(data=selection_table, y=\"Dataset Identifier\", hue=\"Access\", multiple=\"stack\").set(title='Mention Access')"
   ]
  },
  {
   "cell_type": "markdown",
   "id": "53e02bac-9885-4353-8d8d-3c6dbf5860cd",
   "metadata": {},
   "source": [
    "## 5. Dataset Identifier vs. Citation Style"
   ]
  },
  {
   "cell_type": "code",
   "execution_count": null,
   "id": "bf82fab0-2f8f-4011-bc13-abb6edc512ee",
   "metadata": {},
   "outputs": [],
   "source": [
    "sns.set(rc={\"figure.figsize\":(8, 6)}, palette=\"Set2\")\n",
    "sns.histplot(data=mentions_table, y=\"Dataset Identifier\", hue=\"Mention Style\", multiple=\"stack\").set(title='Datasets by how they were mentioned')"
   ]
  },
  {
   "cell_type": "code",
   "execution_count": null,
   "id": "82235c46-c360-4d6b-9bba-d3d4026cd886",
   "metadata": {},
   "outputs": [],
   "source": [
    "sns.histplot(data=mentions_table, y=\"Venue\", hue=\"Citation\", multiple=\"stack\")"
   ]
  },
  {
   "cell_type": "code",
   "execution_count": null,
   "id": "4d8f78d4-546b-4a61-a9fb-851774b9afd9",
   "metadata": {},
   "outputs": [],
   "source": [
    "selection_table = mentions_table[mentions_table['Venue']=='CHIL 2021']\n",
    "sns.histplot(data=selection_table, y=\"Citation\", multiple=\"stack\")"
   ]
  },
  {
   "cell_type": "code",
   "execution_count": null,
   "id": "1e7c3875-a5b7-4f8c-ab8d-438318f53699",
   "metadata": {},
   "outputs": [],
   "source": []
  },
  {
   "cell_type": "code",
   "execution_count": null,
   "id": "7cc12463-37bf-4b2a-99b2-a552ad4032fd",
   "metadata": {},
   "outputs": [],
   "source": []
  }
 ],
 "metadata": {
  "kernelspec": {
   "display_name": "Python 3 (ipykernel)",
   "language": "python",
   "name": "python3"
  },
  "language_info": {
   "codemirror_mode": {
    "name": "ipython",
    "version": 3
   },
   "file_extension": ".py",
   "mimetype": "text/x-python",
   "name": "python",
   "nbconvert_exporter": "python",
   "pygments_lexer": "ipython3",
   "version": "3.10.5"
  }
 },
 "nbformat": 4,
 "nbformat_minor": 5
}
