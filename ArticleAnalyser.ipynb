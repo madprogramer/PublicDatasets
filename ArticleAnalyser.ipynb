{
 "cells": [
  {
   "cell_type": "markdown",
   "id": "4aae19a5-2b6b-4a91-87ec-3af8ae156520",
   "metadata": {},
   "source": [
    "# PublicDatasets"
   ]
  },
  {
   "cell_type": "markdown",
   "id": "e2a76a51-a8cd-41de-a232-55756397f486",
   "metadata": {},
   "source": [
    "## 1. Introduction"
   ]
  },
  {
   "cell_type": "markdown",
   "id": "b5bf9901-0fec-4c91-b5af-e419a8577b5f",
   "metadata": {},
   "source": [
    "### 1.1 Info"
   ]
  },
  {
   "cell_type": "markdown",
   "id": "7505ec4a-8a40-4cba-969b-2704d42b5994",
   "metadata": {},
   "source": [
    "**Current Pipeline:**\n",
    "\n",
    "* First pick targets\n",
    "* Find appropriate input\n",
    "* Run Downloader\n",
    "* Read PDFs\n",
    "* Query for Relations\n",
    "* Save Results"
   ]
  },
  {
   "cell_type": "markdown",
   "id": "800de180-7787-47c0-8d9f-dba9bca56e98",
   "metadata": {},
   "source": [
    "#### 1.1.1 Target Venues"
   ]
  },
  {
   "cell_type": "markdown",
   "id": "0d8bb5d1-d476-4a6f-98dd-0c6b163f7609",
   "metadata": {},
   "source": [
    "* MIDL 2021\n",
    "  * Proceedings to use: https://proceedings.mlr.press/v143/"
   ]
  },
  {
   "cell_type": "markdown",
   "id": "c9dc3ad1-1f9c-460f-a34d-7b0a1d7e4041",
   "metadata": {},
   "source": [
    "#### 1.1.2 Target Datasets"
   ]
  },
  {
   "cell_type": "markdown",
   "id": "16d7c5a5-4944-431c-8d39-669466a6b8e8",
   "metadata": {},
   "source": [
    "* [Data Science Bowl 2017](https://www.kaggle.com/c/data-science-bowl-2017)\n",
    "  * See here for literature: https://scholar.google.com/scholar?hl=en&as_sdt=0%2C5&q=%22data+science+bowl%22+%2B+lung&btnG="
   ]
  },
  {
   "cell_type": "markdown",
   "id": "281f0127-6c18-458e-9b98-ac30ea8f60bb",
   "metadata": {},
   "source": [
    "### 1.2 Imports"
   ]
  },
  {
   "cell_type": "code",
   "execution_count": 1,
   "id": "769c6abb-7729-4e01-8e7d-82c18c70f478",
   "metadata": {},
   "outputs": [],
   "source": [
    "import os,sys\n",
    "import scrapy"
   ]
  },
  {
   "cell_type": "markdown",
   "id": "f37a6300-4141-4307-a08d-105a77dc5f25",
   "metadata": {},
   "source": [
    "## 2. Input"
   ]
  },
  {
   "cell_type": "markdown",
   "id": "2924bd23-cca3-4c28-8e37-516801d7ecaf",
   "metadata": {},
   "source": [
    "### 2.1 PDF Sources"
   ]
  },
  {
   "cell_type": "code",
   "execution_count": 2,
   "id": "88d090d0-59a4-47ad-9457-da4b0fed8804",
   "metadata": {},
   "outputs": [],
   "source": [
    "pdf_urls = [\n",
    "            'https://proceedings.mlr.press/v143/',\n",
    "        ]\n",
    "\n",
    "# To Do: move these under `ArticleScraper/ArticleScraper/spiders`"
   ]
  },
  {
   "cell_type": "markdown",
   "id": "051792d3-3ddf-4e14-890b-249a60d7f70f",
   "metadata": {
    "tags": []
   },
   "source": [
    "### 2.2 Explicit Mentions "
   ]
  },
  {
   "cell_type": "code",
   "execution_count": 3,
   "id": "ba3c91ca-c3ed-4055-beaf-a6e219e20d49",
   "metadata": {},
   "outputs": [],
   "source": [
    "mentions = [\n",
    "    \"2017 Data Science Bowl\",\n",
    "    \"Kaggle Data Science Bowl 2017\",\n",
    "    \"Data Science Bowl 2017\",\n",
    "    \"KDSB17\",\n",
    "    \"DSB\",\n",
    "]"
   ]
  },
  {
   "cell_type": "markdown",
   "id": "5176b51f-0194-483f-9b3f-8df1009053c2",
   "metadata": {},
   "source": [
    "### 2.3 Related Keywords"
   ]
  },
  {
   "cell_type": "code",
   "execution_count": 4,
   "id": "52655431-5320-4006-9a2e-29ffcba56127",
   "metadata": {},
   "outputs": [],
   "source": [
    "keywords = [\n",
    "    \"lung cancer\",\n",
    "    \"nodule\",\n",
    "    \"competition\",\n",
    "    \"kaggle dataset\",\n",
    "    \"deep learning\"\n",
    "]"
   ]
  },
  {
   "cell_type": "markdown",
   "id": "0c3b64e2-d61c-4fdd-9d91-90c9ed152b1c",
   "metadata": {},
   "source": [
    "## 3. Downloader"
   ]
  },
  {
   "cell_type": "markdown",
   "id": "b79f70c4-fabe-44e7-abae-91713228d51f",
   "metadata": {},
   "source": [
    "Makedir for output if it does not exist"
   ]
  },
  {
   "cell_type": "code",
   "execution_count": 5,
   "id": "c9e71883-b5f7-4400-856a-e5be3776b072",
   "metadata": {},
   "outputs": [
    {
     "name": "stdout",
     "output_type": "stream",
     "text": [
      "mkdir: data/pdfs: File exists\n"
     ]
    }
   ],
   "source": [
    "!mkdir data/pdfs"
   ]
  },
  {
   "cell_type": "code",
   "execution_count": 6,
   "id": "358b457e-2720-45a9-a282-e00415b177a7",
   "metadata": {},
   "outputs": [
    {
     "name": "stderr",
     "output_type": "stream",
     "text": [
      "2022-10-05 13:52:40 [scrapy.utils.log] INFO: Scrapy 2.6.3 started (bot: scrapybot)\n",
      "2022-10-05 13:52:40 [scrapy.utils.log] INFO: Versions: lxml 4.9.1.0, libxml2 2.9.4, cssselect 1.1.0, parsel 1.6.0, w3lib 2.0.1, Twisted 22.8.0, Python 3.10.5 (v3.10.5:f377153967, Jun  6 2022, 12:36:10) [Clang 13.0.0 (clang-1300.0.29.30)], pyOpenSSL 22.1.0 (OpenSSL 3.0.5 5 Jul 2022), cryptography 38.0.1, Platform macOS-12.6-arm64-arm-64bit\n",
      "2022-10-05 13:52:40 [scrapy.crawler] INFO: Overridden settings:\n",
      "{}\n",
      "2022-10-05 13:52:40 [scrapy.utils.log] DEBUG: Using reactor: twisted.internet.selectreactor.SelectReactor\n",
      "2022-10-05 13:52:40 [scrapy.extensions.telnet] INFO: Telnet Password: da370bd18ee6c04d\n",
      "2022-10-05 13:52:40 [scrapy.middleware] INFO: Enabled extensions:\n",
      "['scrapy.extensions.corestats.CoreStats',\n",
      " 'scrapy.extensions.telnet.TelnetConsole',\n",
      " 'scrapy.extensions.memusage.MemoryUsage',\n",
      " 'scrapy.extensions.logstats.LogStats']\n",
      "2022-10-05 13:52:40 [scrapy.middleware] INFO: Enabled downloader middlewares:\n",
      "['scrapy.downloadermiddlewares.httpauth.HttpAuthMiddleware',\n",
      " 'scrapy.downloadermiddlewares.downloadtimeout.DownloadTimeoutMiddleware',\n",
      " 'scrapy.downloadermiddlewares.defaultheaders.DefaultHeadersMiddleware',\n",
      " 'scrapy.downloadermiddlewares.useragent.UserAgentMiddleware',\n",
      " 'scrapy.downloadermiddlewares.retry.RetryMiddleware',\n",
      " 'scrapy.downloadermiddlewares.redirect.MetaRefreshMiddleware',\n",
      " 'scrapy.downloadermiddlewares.httpcompression.HttpCompressionMiddleware',\n",
      " 'scrapy.downloadermiddlewares.redirect.RedirectMiddleware',\n",
      " 'scrapy.downloadermiddlewares.cookies.CookiesMiddleware',\n",
      " 'scrapy.downloadermiddlewares.httpproxy.HttpProxyMiddleware',\n",
      " 'scrapy.downloadermiddlewares.stats.DownloaderStats']\n",
      "2022-10-05 13:52:40 [scrapy.middleware] INFO: Enabled spider middlewares:\n",
      "['scrapy.spidermiddlewares.httperror.HttpErrorMiddleware',\n",
      " 'scrapy.spidermiddlewares.offsite.OffsiteMiddleware',\n",
      " 'scrapy.spidermiddlewares.referer.RefererMiddleware',\n",
      " 'scrapy.spidermiddlewares.urllength.UrlLengthMiddleware',\n",
      " 'scrapy.spidermiddlewares.depth.DepthMiddleware']\n",
      "2022-10-05 13:52:40 [scrapy.middleware] INFO: Enabled item pipelines:\n",
      "[]\n",
      "2022-10-05 13:52:40 [scrapy.core.engine] INFO: Spider opened\n",
      "2022-10-05 13:52:40 [scrapy.extensions.logstats] INFO: Crawled 0 pages (at 0 pages/min), scraped 0 items (at 0 items/min)\n",
      "2022-10-05 13:52:40 [scrapy.extensions.telnet] INFO: Telnet console listening on 127.0.0.1:6023\n",
      "2022-10-05 13:52:40 [scrapy.core.engine] DEBUG: Crawled (200) <GET https://proceedings.mlr.press/v143/> (referer: None)\n"
     ]
    },
    {
     "name": "stdout",
     "output_type": "stream",
     "text": [
      "Request url must be str, got NoneType\n"
     ]
    },
    {
     "name": "stderr",
     "output_type": "stream",
     "text": [
      "2022-10-05 13:52:40 [scrapy.core.engine] DEBUG: Crawled (200) <GET https://proceedings.mlr.press/v143/olivier21a/olivier21a.pdf> (referer: https://proceedings.mlr.press/v143/)\n",
      "2022-10-05 13:52:40 [scrapy.core.engine] DEBUG: Crawled (200) <GET https://proceedings.mlr.press/v143/mouches21a/mouches21a.pdf> (referer: https://proceedings.mlr.press/v143/)\n",
      "2022-10-05 13:52:40 [scrapy.core.engine] DEBUG: Crawled (200) <GET https://proceedings.mlr.press/v143/muhamedrahimov21a/muhamedrahimov21a.pdf> (referer: https://proceedings.mlr.press/v143/)\n",
      "2022-10-05 13:52:40 [scrapy.core.downloader.handlers.http11] WARNING: Expected response size (44066590) larger than download warn size (33554432) in request <GET https://proceedings.mlr.press/v143/liu21a/liu21a.pdf>.\n",
      "2022-10-05 13:52:40 [MIDL21_Proceedings] INFO: Saving PDF Balanced sampling for an object detection problem - application to fetal anatomies detection.PDF\n",
      "2022-10-05 13:52:40 [MIDL21_Proceedings] INFO: Saving PDF Unifying Brain Age Prediction and Age-Conditioned Template Generation with a Deterministic Autoencoder.PDF\n",
      "2022-10-05 13:52:40 [MIDL21_Proceedings] INFO: Saving PDF Learning Interclass Relations for Intravenous Contrast Phase Classification in CT.PDF\n",
      "2022-10-05 13:52:41 [scrapy.core.engine] DEBUG: Crawled (200) <GET https://proceedings.mlr.press/v143/nguyen21a/nguyen21a.pdf> (referer: https://proceedings.mlr.press/v143/)\n",
      "2022-10-05 13:52:41 [MIDL21_Proceedings] INFO: Saving PDF GOAL: Gist-set Online Active Learning for Efficient Chest X-ray Image Annotation.PDF\n",
      "2022-10-05 13:52:41 [scrapy.core.engine] DEBUG: Crawled (200) <GET https://proceedings.mlr.press/v143/maheshwari21a/maheshwari21a.pdf> (referer: https://proceedings.mlr.press/v143/)\n",
      "2022-10-05 13:52:41 [MIDL21_Proceedings] INFO: Saving PDF Distill DSM: Computationally efficient method for segmentation of medical imaging volumes.PDF\n",
      "2022-10-05 13:52:42 [scrapy.core.engine] DEBUG: Crawled (200) <GET https://proceedings.mlr.press/v143/neimark21a/neimark21a.pdf> (referer: https://proceedings.mlr.press/v143/)\n",
      "2022-10-05 13:52:43 [MIDL21_Proceedings] INFO: Saving PDF “Train one, Classify one, Teach one” - Cross-surgery transfer learning for surgical step recognition.PDF\n",
      "2022-10-05 13:52:44 [scrapy.core.engine] DEBUG: Crawled (200) <GET https://proceedings.mlr.press/v143/lalit21a/lalit21a.pdf> (referer: https://proceedings.mlr.press/v143/)\n",
      "2022-10-05 13:52:44 [MIDL21_Proceedings] INFO: Saving PDF Embedding-based Instance Segmentation in Microscopy.PDF\n",
      "2022-10-05 13:52:44 [scrapy.core.engine] DEBUG: Crawled (200) <GET https://proceedings.mlr.press/v143/konwer21a/konwer21a.pdf> (referer: https://proceedings.mlr.press/v143/)\n",
      "2022-10-05 13:52:44 [MIDL21_Proceedings] INFO: Saving PDF Predicting COVID-19 Lung Infiltrate Progression on Chest Radiographs Using Spatio-temporal LSTM based Encoder-Decoder Network.PDF\n",
      "2022-10-05 13:52:46 [scrapy.core.engine] DEBUG: Crawled (200) <GET https://proceedings.mlr.press/v143/mairhofer21a/mairhofer21a.pdf> (referer: https://proceedings.mlr.press/v143/)\n",
      "2022-10-05 13:52:46 [scrapy.core.engine] DEBUG: Crawled (200) <GET https://proceedings.mlr.press/v143/lemay21a/lemay21a.pdf> (referer: https://proceedings.mlr.press/v143/)\n",
      "2022-10-05 13:52:46 [MIDL21_Proceedings] INFO: Saving PDF An AI-based Framework for Diagnostic Quality Assessment of Ankle Radiographs.PDF\n",
      "2022-10-05 13:52:47 [MIDL21_Proceedings] INFO: Saving PDF Benefits of Linear Conditioning for Segmentation using Metadata.PDF\n",
      "2022-10-05 13:52:47 [scrapy.core.engine] DEBUG: Crawled (200) <GET https://proceedings.mlr.press/v143/zhang21b/zhang21b.pdf> (referer: https://proceedings.mlr.press/v143/)\n",
      "2022-10-05 13:52:47 [scrapy.core.engine] DEBUG: Crawled (200) <GET https://proceedings.mlr.press/v143/kist21a/kist21a.pdf> (referer: https://proceedings.mlr.press/v143/)\n",
      "2022-10-05 13:52:47 [MIDL21_Proceedings] INFO: Saving PDF SWNet: Surgical Workflow Recognition with Deep Convolutional Network.PDF\n",
      "2022-10-05 13:52:47 [MIDL21_Proceedings] INFO: Saving PDF Feature-based image registration in structured light endoscopy.PDF\n",
      "2022-10-05 13:52:48 [scrapy.core.engine] DEBUG: Crawled (200) <GET https://proceedings.mlr.press/v143/kervadec21a/kervadec21a.pdf> (referer: https://proceedings.mlr.press/v143/)\n",
      "2022-10-05 13:52:48 [MIDL21_Proceedings] INFO: Saving PDF Beyond pixel-wise supervision for segmentation: A few global shape descriptors might be surprisingly good!.PDF\n",
      "2022-10-05 13:52:48 [scrapy.core.engine] DEBUG: Crawled (200) <GET https://proceedings.mlr.press/v143/zhang21c/zhang21c.pdf> (referer: https://proceedings.mlr.press/v143/)\n",
      "2022-10-05 13:52:49 [MIDL21_Proceedings] INFO: Saving PDF Hybrid optimization between iterative and network fine-tuning reconstructions for fast quantitative susceptibility mapping.PDF\n",
      "2022-10-05 13:52:49 [scrapy.core.engine] DEBUG: Crawled (200) <GET https://proceedings.mlr.press/v143/zhang21a/zhang21a.pdf> (referer: https://proceedings.mlr.press/v143/)\n",
      "2022-10-05 13:52:49 [scrapy.core.engine] DEBUG: Crawled (200) <GET https://proceedings.mlr.press/v143/wood21a/wood21a.pdf> (referer: https://proceedings.mlr.press/v143/)\n",
      "2022-10-05 13:52:49 [MIDL21_Proceedings] INFO: Saving PDF A regularization term for slide correlation reduction in whole slide image analysis with deep learning.PDF\n",
      "2022-10-05 13:52:49 [MIDL21_Proceedings] INFO: Saving PDF Automated triaging of head MRI examinations using convolutional neural networks.PDF\n",
      "2022-10-05 13:52:50 [scrapy.core.engine] DEBUG: Crawled (200) <GET https://proceedings.mlr.press/v143/turja21a/turja21a.pdf> (referer: https://proceedings.mlr.press/v143/)\n",
      "2022-10-05 13:52:50 [MIDL21_Proceedings] INFO: Saving PDF Learning the Latent Heat Diffusion Process through Structural Brain Network from Longitudinal $\\beta$-Amyloid Data.PDF\n",
      "2022-10-05 13:52:51 [scrapy.core.engine] DEBUG: Crawled (200) <GET https://proceedings.mlr.press/v143/harten21a/harten21a.pdf> (referer: https://proceedings.mlr.press/v143/)\n",
      "2022-10-05 13:52:51 [MIDL21_Proceedings] INFO: Saving PDF Untangling the Small Intestine in 3D cine-MRI using Deep Stochastic Tracking.PDF\n",
      "2022-10-05 13:52:51 [scrapy.core.engine] DEBUG: Crawled (200) <GET https://proceedings.mlr.press/v143/vadacchino21a/vadacchino21a.pdf> (referer: https://proceedings.mlr.press/v143/)\n",
      "2022-10-05 13:52:51 [MIDL21_Proceedings] INFO: Saving PDF HAD-Net: A Hierarchical Adversarial Knowledge Distillation Network for Improved Enhanced Tumour Segmentation Without Post-Contrast Images.PDF\n",
      "2022-10-05 13:52:51 [scrapy.core.engine] DEBUG: Crawled (200) <GET https://proceedings.mlr.press/v143/simko21a/simko21a.pdf> (referer: https://proceedings.mlr.press/v143/)\n",
      "2022-10-05 13:52:52 [MIDL21_Proceedings] INFO: Saving PDF Changing the Contrast of Magnetic Resonance Imaging Signals using Deep Learning.PDF\n",
      "2022-10-05 13:52:52 [scrapy.core.engine] DEBUG: Crawled (200) <GET https://proceedings.mlr.press/v143/uzunova21a/uzunova21a.pdf> (referer: https://proceedings.mlr.press/v143/)\n",
      "2022-10-05 13:52:52 [MIDL21_Proceedings] INFO: Saving PDF Guided Filter Regularization for Improved Disentanglement of Shape and Appearance in Diffeomorphic Autoencoders.PDF\n",
      "2022-10-05 13:52:52 [scrapy.core.engine] DEBUG: Crawled (200) <GET https://proceedings.mlr.press/v143/sowrirajan21a/sowrirajan21a.pdf> (referer: https://proceedings.mlr.press/v143/)\n",
      "2022-10-05 13:52:52 [MIDL21_Proceedings] INFO: Saving PDF MoCo Pretraining Improves Representation and Transferability of Chest X-ray Models.PDF\n",
      "2022-10-05 13:52:53 [scrapy.core.engine] DEBUG: Crawled (200) <GET https://proceedings.mlr.press/v143/shi21a/shi21a.pdf> (referer: https://proceedings.mlr.press/v143/)\n",
      "2022-10-05 13:52:53 [scrapy.core.engine] DEBUG: Crawled (200) <GET https://proceedings.mlr.press/v143/ozer21a/ozer21a.pdf> (referer: https://proceedings.mlr.press/v143/)\n",
      "2022-10-05 13:52:53 [scrapy.core.engine] DEBUG: Crawled (200) <GET https://proceedings.mlr.press/v143/sharma21a/sharma21a.pdf> (referer: https://proceedings.mlr.press/v143/)\n",
      "2022-10-05 13:52:53 [MIDL21_Proceedings] INFO: Saving PDF Unseen Disease Detection for Deep Learning Interpretation of Chest X-rays.PDF\n",
      "2022-10-05 13:52:53 [MIDL21_Proceedings] INFO: Saving PDF Explainable Image Quality Analysis of Chest X-Rays.PDF\n",
      "2022-10-05 13:52:53 [MIDL21_Proceedings] INFO: Saving PDF Cluster-to-Conquer: A Framework for End-to-End Multi-Instance Learning for Whole Slide Image Classification.PDF\n",
      "2022-10-05 13:52:54 [scrapy.core.engine] DEBUG: Crawled (200) <GET https://proceedings.mlr.press/v143/liu21b/liu21b.pdf> (referer: https://proceedings.mlr.press/v143/)\n",
      "2022-10-05 13:52:54 [MIDL21_Proceedings] INFO: Saving PDF Weakly-supervised High-resolution Segmentation of Mammography Images for Breast Cancer Diagnosis.PDF\n",
      "2022-10-05 13:52:54 [scrapy.core.engine] DEBUG: Crawled (200) <GET https://proceedings.mlr.press/v143/tolle21a/tolle21a.pdf> (referer: https://proceedings.mlr.press/v143/)\n",
      "2022-10-05 13:52:54 [MIDL21_Proceedings] INFO: Saving PDF A Mean-Field Variational Inference Approach to Deep Image Prior for Inverse Problems in Medical Imaging.PDF\n",
      "2022-10-05 13:52:54 [scrapy.core.engine] DEBUG: Crawled (200) <GET https://proceedings.mlr.press/v143/rajagopal21a/rajagopal21a.pdf> (referer: https://proceedings.mlr.press/v143/)\n",
      "2022-10-05 13:52:54 [MIDL21_Proceedings] INFO: Saving PDF Understanding and Visualizing Generalization in UNets.PDF\n",
      "2022-10-05 13:52:55 [scrapy.core.engine] DEBUG: Crawled (200) <GET https://proceedings.mlr.press/v143/kanavati21a/kanavati21a.pdf> (referer: https://proceedings.mlr.press/v143/)\n",
      "2022-10-05 13:52:55 [MIDL21_Proceedings] INFO: Saving PDF Partial transfusion: on the expressive influence of trainable batch norm parameters for transfer learning.PDF\n",
      "2022-10-05 13:52:56 [scrapy.core.engine] DEBUG: Crawled (200) <GET https://proceedings.mlr.press/v143/hu21a/hu21a.pdf> (referer: https://proceedings.mlr.press/v143/)\n",
      "2022-10-05 13:52:56 [MIDL21_Proceedings] INFO: Saving PDF Feedback Graph Attention Convolutional Network for MR Images Enhancement by Exploring Self-Similarity Features.PDF\n",
      "2022-10-05 13:52:57 [scrapy.core.downloader.handlers.http11] WARNING: Received more bytes than download warn size (33554432) in request <GET https://proceedings.mlr.press/v143/liu21a/liu21a.pdf>.\n",
      "2022-10-05 13:52:58 [scrapy.core.engine] DEBUG: Crawled (200) <GET https://proceedings.mlr.press/v143/pirkl21a/pirkl21a.pdf> (referer: https://proceedings.mlr.press/v143/)\n",
      "2022-10-05 13:52:58 [MIDL21_Proceedings] INFO: Saving PDF Residual learning for 3D motion corrected quantitative MRI: Robust clinical T1, T2 and proton density mapping.PDF\n",
      "2022-10-05 13:52:59 [scrapy.core.engine] DEBUG: Crawled (200) <GET https://proceedings.mlr.press/v143/qiu21a/qiu21a.pdf> (referer: https://proceedings.mlr.press/v143/)\n",
      "2022-10-05 13:52:59 [MIDL21_Proceedings] INFO: Saving PDF Learning Diffeomorphic and Modality-invariant Registration using B-splines.PDF\n",
      "2022-10-05 13:52:59 [scrapy.core.engine] DEBUG: Crawled (200) <GET https://proceedings.mlr.press/v143/hemati21a/hemati21a.pdf> (referer: https://proceedings.mlr.press/v143/)\n",
      "2022-10-05 13:52:59 [MIDL21_Proceedings] INFO: Saving PDF CNN and Deep Sets for End-to-End Whole Slide Image Representation Learning.PDF\n",
      "2022-10-05 13:52:59 [scrapy.core.engine] DEBUG: Crawled (200) <GET https://proceedings.mlr.press/v143/heer21a/heer21a.pdf> (referer: https://proceedings.mlr.press/v143/)\n",
      "2022-10-05 13:52:59 [MIDL21_Proceedings] INFO: Saving PDF The OOD Blind Spot of Unsupervised Anomaly Detection.PDF\n",
      "2022-10-05 13:52:59 [scrapy.core.engine] DEBUG: Crawled (200) <GET https://proceedings.mlr.press/v143/hagenah21a/hagenah21a.pdf> (referer: https://proceedings.mlr.press/v143/)\n",
      "2022-10-05 13:53:00 [scrapy.core.engine] DEBUG: Crawled (200) <GET https://proceedings.mlr.press/v143/hering21a/hering21a.pdf> (referer: https://proceedings.mlr.press/v143/)\n",
      "2022-10-05 13:53:00 [scrapy.core.engine] DEBUG: Crawled (200) <GET https://proceedings.mlr.press/v143/he21a/he21a.pdf> (referer: https://proceedings.mlr.press/v143/)\n",
      "2022-10-05 13:53:00 [MIDL21_Proceedings] INFO: Saving PDF Discrete Pseudohealthy Synthesis: Aortic Root Shape Typification and Type Classification with Pathological Prior.PDF\n",
      "2022-10-05 13:53:00 [MIDL21_Proceedings] INFO: Saving PDF Whole-Body Soft-Tissue Lesion Tracking and Segmentation in Longitudinal CT Imaging Studies.PDF\n",
      "2022-10-05 13:53:00 [MIDL21_Proceedings] INFO: Saving PDF Weakly Supervised Volumetric Segmentation via Self-taught Shape Denoising Model.PDF\n",
      "2022-10-05 13:53:00 [scrapy.core.engine] DEBUG: Crawled (200) <GET https://proceedings.mlr.press/v143/gonzalez21a/gonzalez21a.pdf> (referer: https://proceedings.mlr.press/v143/)\n",
      "2022-10-05 13:53:00 [scrapy.core.engine] DEBUG: Crawled (200) <GET https://proceedings.mlr.press/v143/gupta21a/gupta21a.pdf> (referer: https://proceedings.mlr.press/v143/)\n",
      "2022-10-05 13:53:00 [scrapy.core.engine] DEBUG: Crawled (200) <GET https://proceedings.mlr.press/v143/gruening21a/gruening21a.pdf> (referer: https://proceedings.mlr.press/v143/)\n",
      "2022-10-05 13:53:00 [MIDL21_Proceedings] INFO: Saving PDF Self-supervised Out-of-distribution Detection for Cardiac CMR Segmentation.PDF\n",
      "2022-10-05 13:53:00 [MIDL21_Proceedings] INFO: Saving PDF Membership Inference Attacks on Deep Regression Models for Neuroimaging.PDF\n",
      "2022-10-05 13:53:00 [MIDL21_Proceedings] INFO: Saving PDF Direct Inference of Cell Positions using Lens-Free Microscopy and Deep Learning.PDF\n",
      "2022-10-05 13:53:00 [scrapy.core.engine] DEBUG: Crawled (200) <GET https://proceedings.mlr.press/v143/pinaya21a/pinaya21a.pdf> (referer: https://proceedings.mlr.press/v143/)\n",
      "2022-10-05 13:53:00 [MIDL21_Proceedings] INFO: Saving PDF Unsupervised Brain Anomaly Detection and Segmentation with Transformers.PDF\n",
      "2022-10-05 13:53:00 [scrapy.core.engine] DEBUG: Crawled (200) <GET https://proceedings.mlr.press/v143/el-jurdi21a/el-jurdi21a.pdf> (referer: https://proceedings.mlr.press/v143/)\n",
      "2022-10-05 13:53:01 [MIDL21_Proceedings] INFO: Saving PDF A Surprisingly Effective Perimeter-based Loss for Medical Image Segmentation.PDF\n",
      "2022-10-05 13:53:01 [scrapy.core.engine] DEBUG: Crawled (200) <GET https://proceedings.mlr.press/v143/gadgil21a/gadgil21a.pdf> (referer: https://proceedings.mlr.press/v143/)\n",
      "2022-10-05 13:53:01 [MIDL21_Proceedings] INFO: Saving PDF CheXseg: Combining Expert Annotations with DNN-generated Saliency Maps for X-ray Segmentation.PDF\n",
      "2022-10-05 13:53:02 [scrapy.core.engine] DEBUG: Crawled (200) <GET https://proceedings.mlr.press/v143/muhammad21a/muhammad21a.pdf> (referer: https://proceedings.mlr.press/v143/)\n",
      "2022-10-05 13:53:02 [MIDL21_Proceedings] INFO: Saving PDF EPIC-Survival: End-to-end Part Inferred Clustering for Survival Analysis, with Prognostic Stratification Boosting.PDF\n",
      "2022-10-05 13:53:02 [scrapy.core.engine] DEBUG: Crawled (200) <GET https://proceedings.mlr.press/v143/feng21a/feng21a.pdf> (referer: https://proceedings.mlr.press/v143/)\n",
      "2022-10-05 13:53:02 [MIDL21_Proceedings] INFO: Saving PDF Nuc2Vec: Learning Representations of Nuclei in Histopathology Images with Contrastive Loss.PDF\n",
      "2022-10-05 13:53:02 [scrapy.core.engine] DEBUG: Crawled (200) <GET https://proceedings.mlr.press/v143/dzyubachyk21a/dzyubachyk21a.pdf> (referer: https://proceedings.mlr.press/v143/)\n",
      "2022-10-05 13:53:02 [scrapy.core.engine] DEBUG: Crawled (200) <GET https://proceedings.mlr.press/v143/prieto21a/prieto21a.pdf> (referer: https://proceedings.mlr.press/v143/)\n",
      "2022-10-05 13:53:02 [scrapy.core.engine] DEBUG: Crawled (200) <GET https://proceedings.mlr.press/v143/dsouza21a/dsouza21a.pdf> (referer: https://proceedings.mlr.press/v143/)\n",
      "2022-10-05 13:53:02 [scrapy.core.engine] DEBUG: Crawled (200) <GET https://proceedings.mlr.press/v143/dunnhofer21a/dunnhofer21a.pdf> (referer: https://proceedings.mlr.press/v143/)\n",
      "2022-10-05 13:53:02 [MIDL21_Proceedings] INFO: Saving PDF Intensity Correction and Standardization for Electron Microscopy Data.PDF\n",
      "2022-10-05 13:53:02 [MIDL21_Proceedings] INFO: Saving PDF Image Sequence Generation and Analysis via GRU and Attention for Trachomatous Trichiasis Classification.PDF\n",
      "2022-10-05 13:53:02 [MIDL21_Proceedings] INFO: Saving PDF M-GCN: A Multimodal Graph Convolutional Network to Integrate Functional and Structural Connectomics Data to Predict Multidimensional Phenotypic Characterizations.PDF\n",
      "2022-10-05 13:53:02 [MIDL21_Proceedings] INFO: Saving PDF Improving MRI-based Knee Disorder Diagnosis with Pyramidal Feature Details.PDF\n",
      "2022-10-05 13:53:03 [scrapy.core.engine] DEBUG: Crawled (200) <GET https://proceedings.mlr.press/v143/liu21a/liu21a.pdf> (referer: https://proceedings.mlr.press/v143/)\n",
      "2022-10-05 13:53:03 [scrapy.core.engine] DEBUG: Crawled (200) <GET https://proceedings.mlr.press/v143/brudfors21a/brudfors21a.pdf> (referer: https://proceedings.mlr.press/v143/)\n",
      "2022-10-05 13:53:03 [MIDL21_Proceedings] INFO: Saving PDF Improved model-based deep learning for quantitative susceptibility mapping.PDF\n",
      "2022-10-05 13:53:03 [MIDL21_Proceedings] INFO: Saving PDF An MRF-UNet Product of Experts for Image Segmentation.PDF\n",
      "2022-10-05 13:53:03 [scrapy.core.engine] DEBUG: Crawled (200) <GET https://proceedings.mlr.press/v143/amador21a/amador21a.pdf> (referer: https://proceedings.mlr.press/v143/)\n",
      "2022-10-05 13:53:03 [MIDL21_Proceedings] INFO: Saving PDF Stroke Lesion Outcome Prediction Based on 4D CT Perfusion Data Using Temporal Convolutional Networks.PDF\n",
      "2022-10-05 13:53:03 [scrapy.core.engine] DEBUG: Crawled (200) <GET https://proceedings.mlr.press/v143/heinrich21a/heinrich21a.pdf> (referer: https://proceedings.mlr.press/v143/)\n",
      "2022-10-05 13:53:03 [MIDL21_Proceedings] INFO: Saving PDF Preface.PDF\n",
      "2022-10-05 13:53:03 [scrapy.core.engine] DEBUG: Crawled (200) <GET https://proceedings.mlr.press/v143/czolbe21a/czolbe21a.pdf> (referer: https://proceedings.mlr.press/v143/)\n",
      "2022-10-05 13:53:04 [MIDL21_Proceedings] INFO: Saving PDF Semantic similarity metrics for learned image registration.PDF\n",
      "2022-10-05 13:53:04 [scrapy.core.engine] DEBUG: Crawled (200) <GET https://proceedings.mlr.press/v143/philipp21a/philipp21a.pdf> (referer: https://proceedings.mlr.press/v143/)\n",
      "2022-10-05 13:53:04 [MIDL21_Proceedings] INFO: Saving PDF Localizing Neurosurgical Instruments Across Domains and in the Wild.PDF\n",
      "2022-10-05 13:53:04 [scrapy.core.engine] DEBUG: Crawled (200) <GET https://proceedings.mlr.press/v143/bargsten21a/bargsten21a.pdf> (referer: https://proceedings.mlr.press/v143/)\n",
      "2022-10-05 13:53:04 [MIDL21_Proceedings] INFO: Saving PDF Attention via Scattering Transforms for Segmentation of Small Intravascular Ultrasound Data Sets.PDF\n",
      "2022-10-05 13:53:05 [scrapy.core.engine] DEBUG: Crawled (200) <GET https://proceedings.mlr.press/v143/cohen21a/cohen21a.pdf> (referer: https://proceedings.mlr.press/v143/)\n",
      "2022-10-05 13:53:05 [scrapy.core.engine] DEBUG: Crawled (200) <GET https://proceedings.mlr.press/v143/chu21a/chu21a.pdf> (referer: https://proceedings.mlr.press/v143/)\n",
      "2022-10-05 13:53:05 [MIDL21_Proceedings] INFO: Saving PDF Gifsplanation via Latent Shift: A Simple Autoencoder Approach to Counterfactual Generation for Chest X-rays.PDF\n",
      "2022-10-05 13:53:05 [MIDL21_Proceedings] INFO: Saving PDF Improving Weakly Supervised Lesion Segmentation using Multi-Task Learning.PDF\n",
      "2022-10-05 13:53:06 [scrapy.core.engine] DEBUG: Crawled (200) <GET https://proceedings.mlr.press/v143/faryna21a/faryna21a.pdf> (referer: https://proceedings.mlr.press/v143/)\n",
      "2022-10-05 13:53:06 [MIDL21_Proceedings] INFO: Saving PDF Tailoring automated data augmentation to H&E-stained histopathology.PDF\n",
      "2022-10-05 13:53:07 [scrapy.core.engine] DEBUG: Crawled (200) <GET https://proceedings.mlr.press/v143/abbet21a/abbet21a.pdf> (referer: https://proceedings.mlr.press/v143/)\n",
      "2022-10-05 13:53:07 [MIDL21_Proceedings] INFO: Saving PDF Self-Rule to Adapt: Learning Generalized Features from Sparsely-Labeled Data Using Unsupervised Domain Adaptation for Colorectal Cancer Tissue Phenotyping.PDF\n",
      "2022-10-05 13:53:07 [scrapy.core.engine] INFO: Closing spider (finished)\n",
      "2022-10-05 13:53:07 [scrapy.statscollectors] INFO: Dumping Scrapy stats:\n",
      "{'downloader/request_bytes': 18194,\n",
      " 'downloader/request_count': 61,\n",
      " 'downloader/request_method_count/GET': 61,\n",
      " 'downloader/response_bytes': 342585425,\n",
      " 'downloader/response_count': 61,\n",
      " 'downloader/response_status_count/200': 61,\n",
      " 'elapsed_time_seconds': 27.113999,\n",
      " 'finish_reason': 'finished',\n",
      " 'finish_time': datetime.datetime(2022, 10, 5, 11, 53, 7, 436974),\n",
      " 'httpcompression/response_bytes': 55011,\n",
      " 'httpcompression/response_count': 1,\n",
      " 'log_count/DEBUG': 62,\n",
      " 'log_count/INFO': 70,\n",
      " 'log_count/WARNING': 2,\n",
      " 'memusage/max': 109756416,\n",
      " 'memusage/startup': 109756416,\n",
      " 'request_depth_max': 1,\n",
      " 'response_received_count': 61,\n",
      " 'scheduler/dequeued': 61,\n",
      " 'scheduler/dequeued/memory': 61,\n",
      " 'scheduler/enqueued': 61,\n",
      " 'scheduler/enqueued/memory': 61,\n",
      " 'start_time': datetime.datetime(2022, 10, 5, 11, 52, 40, 322975)}\n",
      "2022-10-05 13:53:07 [scrapy.core.engine] INFO: Spider closed (finished)\n"
     ]
    }
   ],
   "source": [
    "# scrapy code goes here\n",
    "from scrapy.crawler import CrawlerProcess\n",
    "from scrapy.http import Request\n",
    "\n",
    "class MIDL21Spider(scrapy.Spider):\n",
    "    name = \"MIDL21_Proceedings\"\n",
    "\n",
    "    def start_requests(self):\n",
    "        urls = pdf_urls\n",
    "        for url in urls:\n",
    "            yield scrapy.Request(url=url, callback=self.parse)\n",
    "\n",
    "    def parse(self, response):\n",
    "        for article in response.xpath('/html/body/main/div/div[*]'):\n",
    "            try:\n",
    "                yield Request(\n",
    "                    url=article.xpath('p[3]/a[2]/@href').get(),\n",
    "                    meta={\n",
    "                        \"title\": article.xpath('p[1]/text()').get()\n",
    "                        },\n",
    "                    callback=self.save_pdf\n",
    "                )\n",
    "            except Exception as e:\n",
    "                print(e)\n",
    "\n",
    "    def save_pdf(self, response):\n",
    "        try:\n",
    "            title = response.meta['title']+\".PDF\"\n",
    "            self.logger.info('Saving PDF %s', title)\n",
    "            with open(os.path.join('data','pdfs',title), 'wb') as f:\n",
    "                f.write(response.body)\n",
    "        except Exception as e:\n",
    "            print(e)\n",
    "            \n",
    "crawler = CrawlerProcess({})\n",
    "crawler.crawl(MIDL21Spider)\n",
    "crawler.start()\n",
    "# DOIs are unavailable for now\n",
    "# pdf-files"
   ]
  },
  {
   "cell_type": "markdown",
   "id": "c6802edc-afd2-4b18-b543-d8d9f8def3fd",
   "metadata": {},
   "source": [
    "## 4. PDF-Reader"
   ]
  },
  {
   "cell_type": "markdown",
   "id": "bcf44d52-a299-4fc0-8838-8643d9f964d0",
   "metadata": {},
   "source": [
    "## 5. Relation Querier"
   ]
  },
  {
   "cell_type": "markdown",
   "id": "64950872-9e97-423e-8bc5-3ffc345654f6",
   "metadata": {},
   "source": [
    "## 6. Saving Results"
   ]
  },
  {
   "cell_type": "code",
   "execution_count": null,
   "id": "26e8bb94-492b-42e2-9b76-515595a143e5",
   "metadata": {},
   "outputs": [],
   "source": []
  }
 ],
 "metadata": {
  "kernelspec": {
   "display_name": "Python 3",
   "language": "python",
   "name": "python3"
  },
  "language_info": {
   "codemirror_mode": {
    "name": "ipython",
    "version": 3
   },
   "file_extension": ".py",
   "mimetype": "text/x-python",
   "name": "python",
   "nbconvert_exporter": "python",
   "pygments_lexer": "ipython3",
   "version": "3.10.5"
  }
 },
 "nbformat": 4,
 "nbformat_minor": 5
}
