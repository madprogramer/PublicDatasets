{
 "cells": [
  {
   "cell_type": "markdown",
   "id": "4aae19a5-2b6b-4a91-87ec-3af8ae156520",
   "metadata": {},
   "source": [
    "# PublicDatasets"
   ]
  },
  {
   "cell_type": "markdown",
   "id": "e2a76a51-a8cd-41de-a232-55756397f486",
   "metadata": {},
   "source": [
    "## 1. Introduction"
   ]
  },
  {
   "cell_type": "markdown",
   "id": "b5bf9901-0fec-4c91-b5af-e419a8577b5f",
   "metadata": {},
   "source": [
    "### 1.1 Info"
   ]
  },
  {
   "cell_type": "markdown",
   "id": "7505ec4a-8a40-4cba-969b-2704d42b5994",
   "metadata": {},
   "source": [
    "**Current Pipeline:**\n",
    "\n",
    "* First pick targets\n",
    "* Find appropriate input\n",
    "* Run Downloader\n",
    "* Read PDFs\n",
    "* Query for Relations\n",
    "* Save Results"
   ]
  },
  {
   "cell_type": "markdown",
   "id": "800de180-7787-47c0-8d9f-dba9bca56e98",
   "metadata": {},
   "source": [
    "#### 1.1.1 Target Venues"
   ]
  },
  {
   "cell_type": "markdown",
   "id": "0d8bb5d1-d476-4a6f-98dd-0c6b163f7609",
   "metadata": {},
   "source": [
    "* MIDL 2021\n",
    "  * Proceedings to use: https://proceedings.mlr.press/v143/"
   ]
  },
  {
   "cell_type": "markdown",
   "id": "c9dc3ad1-1f9c-460f-a34d-7b0a1d7e4041",
   "metadata": {},
   "source": [
    "#### 1.1.2 Target Datasets"
   ]
  },
  {
   "cell_type": "markdown",
   "id": "16d7c5a5-4944-431c-8d39-669466a6b8e8",
   "metadata": {},
   "source": [
    "* [Data Science Bowl 2017](https://www.kaggle.com/c/data-science-bowl-2017)\n",
    "  * See here for literature: https://scholar.google.com/scholar?hl=en&as_sdt=0%2C5&q=%22data+science+bowl%22+%2B+lung&btnG="
   ]
  },
  {
   "cell_type": "markdown",
   "id": "281f0127-6c18-458e-9b98-ac30ea8f60bb",
   "metadata": {},
   "source": [
    "### 1.2 Imports"
   ]
  },
  {
   "cell_type": "code",
   "execution_count": 2,
   "id": "769c6abb-7729-4e01-8e7d-82c18c70f478",
   "metadata": {},
   "outputs": [],
   "source": [
    "import os,sys\n",
    "import scrapy"
   ]
  },
  {
   "cell_type": "markdown",
   "id": "f37a6300-4141-4307-a08d-105a77dc5f25",
   "metadata": {},
   "source": [
    "## 2. Input"
   ]
  },
  {
   "cell_type": "markdown",
   "id": "2924bd23-cca3-4c28-8e37-516801d7ecaf",
   "metadata": {},
   "source": [
    "### 2.1 PDF Sources"
   ]
  },
  {
   "cell_type": "code",
   "execution_count": 4,
   "id": "88d090d0-59a4-47ad-9457-da4b0fed8804",
   "metadata": {},
   "outputs": [],
   "source": [
    "# These are configured under `ArticleScraper/ArticleScraper/spiders`"
   ]
  },
  {
   "cell_type": "markdown",
   "id": "051792d3-3ddf-4e14-890b-249a60d7f70f",
   "metadata": {
    "tags": []
   },
   "source": [
    "### 2.2 Explicit Mentions "
   ]
  },
  {
   "cell_type": "code",
   "execution_count": 5,
   "id": "ba3c91ca-c3ed-4055-beaf-a6e219e20d49",
   "metadata": {},
   "outputs": [],
   "source": [
    "mentions = [\n",
    "    \"2017 Data Science Bowl\",\n",
    "    \"Kaggle Data Science Bowl 2017\",\n",
    "    \"Data Science Bowl 2017\",\n",
    "    \"KDSB17\",\n",
    "    \"DSB\",\n",
    "]"
   ]
  },
  {
   "cell_type": "markdown",
   "id": "5176b51f-0194-483f-9b3f-8df1009053c2",
   "metadata": {},
   "source": [
    "### 2.3 Related Keywords"
   ]
  },
  {
   "cell_type": "code",
   "execution_count": 6,
   "id": "52655431-5320-4006-9a2e-29ffcba56127",
   "metadata": {},
   "outputs": [],
   "source": [
    "keywords = [\n",
    "    \"lung cancer\",\n",
    "    \"nodule\",\n",
    "    \"competition\",\n",
    "    \"kaggle dataset\",\n",
    "    \"deep learning\"\n",
    "]"
   ]
  },
  {
   "cell_type": "markdown",
   "id": "0c3b64e2-d61c-4fdd-9d91-90c9ed152b1c",
   "metadata": {},
   "source": [
    "## 3. Downloader"
   ]
  },
  {
   "cell_type": "code",
   "execution_count": null,
   "id": "358b457e-2720-45a9-a282-e00415b177a7",
   "metadata": {},
   "outputs": [],
   "source": [
    "# scrapy code goes here\n",
    "# dois\n",
    "# pdf-files"
   ]
  },
  {
   "cell_type": "markdown",
   "id": "c6802edc-afd2-4b18-b543-d8d9f8def3fd",
   "metadata": {},
   "source": [
    "## 4. PDF-Reader"
   ]
  },
  {
   "cell_type": "markdown",
   "id": "bcf44d52-a299-4fc0-8838-8643d9f964d0",
   "metadata": {},
   "source": [
    "## 5. Relation Querier"
   ]
  },
  {
   "cell_type": "markdown",
   "id": "64950872-9e97-423e-8bc5-3ffc345654f6",
   "metadata": {},
   "source": [
    "## 6. Saving Results"
   ]
  },
  {
   "cell_type": "code",
   "execution_count": null,
   "id": "26e8bb94-492b-42e2-9b76-515595a143e5",
   "metadata": {},
   "outputs": [],
   "source": []
  }
 ],
 "metadata": {
  "kernelspec": {
   "display_name": "Python 3",
   "language": "python",
   "name": "python3"
  },
  "language_info": {
   "codemirror_mode": {
    "name": "ipython",
    "version": 3
   },
   "file_extension": ".py",
   "mimetype": "text/x-python",
   "name": "python",
   "nbconvert_exporter": "python",
   "pygments_lexer": "ipython3",
   "version": "3.10.5"
  }
 },
 "nbformat": 4,
 "nbformat_minor": 5
}
